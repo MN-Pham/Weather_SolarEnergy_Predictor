{
 "cells": [
  {
   "cell_type": "code",
   "execution_count": 73,
   "metadata": {},
   "outputs": [],
   "source": [
    "from fastai.collab import *\n",
    "from fastai.tabular.all import *\n",
    "from time import *"
   ]
  },
  {
   "cell_type": "code",
   "execution_count": 74,
   "metadata": {},
   "outputs": [
    {
     "data": {
      "text/plain": [
       "(#7) [Path('SolarEnergyPrediction.ipynb'),Path('SolarEnergy.zip'),Path('weather_in_Antwerp_future2.csv'),Path('Weather.zip'),Path('PV_Elec_Gas3.csv'),Path('.ipynb_checkpoints'),Path('weather_in_Antwerp.csv')]"
      ]
     },
     "execution_count": 74,
     "metadata": {},
     "output_type": "execute_result"
    }
   ],
   "source": [
    "path = Path('.')\n",
    "path.ls()"
   ]
  },
  {
   "cell_type": "markdown",
   "metadata": {},
   "source": [
    "Source: https://www.kaggle.com/ramima/weather-dataset-in-antwerp-belgium"
   ]
  },
  {
   "cell_type": "code",
   "execution_count": 75,
   "metadata": {},
   "outputs": [],
   "source": [
    "weather = pd.read_csv(path/'weather_in_Antwerp.csv', delimiter=';', engine='python',\n",
    "                     header=0)"
   ]
  },
  {
   "cell_type": "code",
   "execution_count": 76,
   "metadata": {},
   "outputs": [
    {
     "data": {
      "text/html": [
       "<div>\n",
       "<style scoped>\n",
       "    .dataframe tbody tr th:only-of-type {\n",
       "        vertical-align: middle;\n",
       "    }\n",
       "\n",
       "    .dataframe tbody tr th {\n",
       "        vertical-align: top;\n",
       "    }\n",
       "\n",
       "    .dataframe thead th {\n",
       "        text-align: right;\n",
       "    }\n",
       "</style>\n",
       "<table border=\"1\" class=\"dataframe\">\n",
       "  <thead>\n",
       "    <tr style=\"text-align: right;\">\n",
       "      <th></th>\n",
       "      <th>Unnamed: 0</th>\n",
       "      <th>clock</th>\n",
       "      <th>temp</th>\n",
       "      <th>weather</th>\n",
       "      <th>wind</th>\n",
       "      <th>humidity</th>\n",
       "      <th>barometer</th>\n",
       "      <th>visibility</th>\n",
       "      <th>year</th>\n",
       "      <th>month</th>\n",
       "      <th>day</th>\n",
       "    </tr>\n",
       "  </thead>\n",
       "  <tbody>\n",
       "    <tr>\n",
       "      <th>0</th>\n",
       "      <td>0</td>\n",
       "      <td>00:20</td>\n",
       "      <td>11 °C</td>\n",
       "      <td>Mostly cloudy.</td>\n",
       "      <td>17 km/h</td>\n",
       "      <td>94%</td>\n",
       "      <td>1011 mbar</td>\n",
       "      <td>5 km</td>\n",
       "      <td>2012</td>\n",
       "      <td>1</td>\n",
       "      <td>1</td>\n",
       "    </tr>\n",
       "    <tr>\n",
       "      <th>1</th>\n",
       "      <td>1</td>\n",
       "      <td>00:50</td>\n",
       "      <td>12 °C</td>\n",
       "      <td>Mostly cloudy.</td>\n",
       "      <td>17 km/h</td>\n",
       "      <td>88%</td>\n",
       "      <td>1011 mbar</td>\n",
       "      <td>NaN</td>\n",
       "      <td>2012</td>\n",
       "      <td>1</td>\n",
       "      <td>1</td>\n",
       "    </tr>\n",
       "    <tr>\n",
       "      <th>2</th>\n",
       "      <td>2</td>\n",
       "      <td>01:50</td>\n",
       "      <td>12 °C</td>\n",
       "      <td>Overcast.</td>\n",
       "      <td>19 km/h</td>\n",
       "      <td>88%</td>\n",
       "      <td>1011 mbar</td>\n",
       "      <td>9 km</td>\n",
       "      <td>2012</td>\n",
       "      <td>1</td>\n",
       "      <td>1</td>\n",
       "    </tr>\n",
       "    <tr>\n",
       "      <th>3</th>\n",
       "      <td>3</td>\n",
       "      <td>02:20</td>\n",
       "      <td>12 °C</td>\n",
       "      <td>Partly cloudy.</td>\n",
       "      <td>17 km/h</td>\n",
       "      <td>88%</td>\n",
       "      <td>1010 mbar</td>\n",
       "      <td>NaN</td>\n",
       "      <td>2012</td>\n",
       "      <td>1</td>\n",
       "      <td>1</td>\n",
       "    </tr>\n",
       "    <tr>\n",
       "      <th>4</th>\n",
       "      <td>4</td>\n",
       "      <td>02:50</td>\n",
       "      <td>12 °C</td>\n",
       "      <td>Sprinkles. Mostly cloudy.</td>\n",
       "      <td>15 km/h</td>\n",
       "      <td>88%</td>\n",
       "      <td>1010 mbar</td>\n",
       "      <td>NaN</td>\n",
       "      <td>2012</td>\n",
       "      <td>1</td>\n",
       "      <td>1</td>\n",
       "    </tr>\n",
       "  </tbody>\n",
       "</table>\n",
       "</div>"
      ],
      "text/plain": [
       "   Unnamed: 0  clock   temp                    weather     wind humidity  \\\n",
       "0           0  00:20  11 °C             Mostly cloudy.  17 km/h      94%   \n",
       "1           1  00:50  12 °C             Mostly cloudy.  17 km/h      88%   \n",
       "2           2  01:50  12 °C                  Overcast.  19 km/h      88%   \n",
       "3           3  02:20  12 °C             Partly cloudy.  17 km/h      88%   \n",
       "4           4  02:50  12 °C  Sprinkles. Mostly cloudy.  15 km/h      88%   \n",
       "\n",
       "   barometer visibility  year  month  day  \n",
       "0  1011 mbar       5 km  2012      1    1  \n",
       "1  1011 mbar        NaN  2012      1    1  \n",
       "2  1011 mbar       9 km  2012      1    1  \n",
       "3  1010 mbar        NaN  2012      1    1  \n",
       "4  1010 mbar        NaN  2012      1    1  "
      ]
     },
     "execution_count": 76,
     "metadata": {},
     "output_type": "execute_result"
    }
   ],
   "source": [
    "weather.head()"
   ]
  },
  {
   "cell_type": "markdown",
   "metadata": {},
   "source": [
    "One or some parameters (barometer for example) may not have effect on the amount of generated solar energy. However, in a linear regression model, this is not a big concern. Parameters that have small impact on the result simply have smaller coefficients.\n",
    "\n",
    "As shown in the table above, some data is missing. Therefore, the dataset needs to be cleaned. There are two index columns in thae table, so let start by removing one of them."
   ]
  },
  {
   "cell_type": "code",
   "execution_count": 77,
   "metadata": {},
   "outputs": [
    {
     "data": {
      "text/html": [
       "<div>\n",
       "<style scoped>\n",
       "    .dataframe tbody tr th:only-of-type {\n",
       "        vertical-align: middle;\n",
       "    }\n",
       "\n",
       "    .dataframe tbody tr th {\n",
       "        vertical-align: top;\n",
       "    }\n",
       "\n",
       "    .dataframe thead th {\n",
       "        text-align: right;\n",
       "    }\n",
       "</style>\n",
       "<table border=\"1\" class=\"dataframe\">\n",
       "  <thead>\n",
       "    <tr style=\"text-align: right;\">\n",
       "      <th></th>\n",
       "      <th>clock</th>\n",
       "      <th>temp</th>\n",
       "      <th>weather</th>\n",
       "      <th>wind</th>\n",
       "      <th>humidity</th>\n",
       "      <th>barometer</th>\n",
       "      <th>visibility</th>\n",
       "      <th>year</th>\n",
       "      <th>month</th>\n",
       "      <th>day</th>\n",
       "    </tr>\n",
       "  </thead>\n",
       "  <tbody>\n",
       "    <tr>\n",
       "      <th>0</th>\n",
       "      <td>00:20</td>\n",
       "      <td>11 °C</td>\n",
       "      <td>Mostly cloudy.</td>\n",
       "      <td>17 km/h</td>\n",
       "      <td>94%</td>\n",
       "      <td>1011 mbar</td>\n",
       "      <td>5 km</td>\n",
       "      <td>2012</td>\n",
       "      <td>1</td>\n",
       "      <td>1</td>\n",
       "    </tr>\n",
       "    <tr>\n",
       "      <th>1</th>\n",
       "      <td>00:50</td>\n",
       "      <td>12 °C</td>\n",
       "      <td>Mostly cloudy.</td>\n",
       "      <td>17 km/h</td>\n",
       "      <td>88%</td>\n",
       "      <td>1011 mbar</td>\n",
       "      <td>NaN</td>\n",
       "      <td>2012</td>\n",
       "      <td>1</td>\n",
       "      <td>1</td>\n",
       "    </tr>\n",
       "    <tr>\n",
       "      <th>2</th>\n",
       "      <td>01:50</td>\n",
       "      <td>12 °C</td>\n",
       "      <td>Overcast.</td>\n",
       "      <td>19 km/h</td>\n",
       "      <td>88%</td>\n",
       "      <td>1011 mbar</td>\n",
       "      <td>9 km</td>\n",
       "      <td>2012</td>\n",
       "      <td>1</td>\n",
       "      <td>1</td>\n",
       "    </tr>\n",
       "    <tr>\n",
       "      <th>3</th>\n",
       "      <td>02:20</td>\n",
       "      <td>12 °C</td>\n",
       "      <td>Partly cloudy.</td>\n",
       "      <td>17 km/h</td>\n",
       "      <td>88%</td>\n",
       "      <td>1010 mbar</td>\n",
       "      <td>NaN</td>\n",
       "      <td>2012</td>\n",
       "      <td>1</td>\n",
       "      <td>1</td>\n",
       "    </tr>\n",
       "    <tr>\n",
       "      <th>4</th>\n",
       "      <td>02:50</td>\n",
       "      <td>12 °C</td>\n",
       "      <td>Sprinkles. Mostly cloudy.</td>\n",
       "      <td>15 km/h</td>\n",
       "      <td>88%</td>\n",
       "      <td>1010 mbar</td>\n",
       "      <td>NaN</td>\n",
       "      <td>2012</td>\n",
       "      <td>1</td>\n",
       "      <td>1</td>\n",
       "    </tr>\n",
       "  </tbody>\n",
       "</table>\n",
       "</div>"
      ],
      "text/plain": [
       "   clock   temp                    weather     wind humidity  barometer  \\\n",
       "0  00:20  11 °C             Mostly cloudy.  17 km/h      94%  1011 mbar   \n",
       "1  00:50  12 °C             Mostly cloudy.  17 km/h      88%  1011 mbar   \n",
       "2  01:50  12 °C                  Overcast.  19 km/h      88%  1011 mbar   \n",
       "3  02:20  12 °C             Partly cloudy.  17 km/h      88%  1010 mbar   \n",
       "4  02:50  12 °C  Sprinkles. Mostly cloudy.  15 km/h      88%  1010 mbar   \n",
       "\n",
       "  visibility  year  month  day  \n",
       "0       5 km  2012      1    1  \n",
       "1        NaN  2012      1    1  \n",
       "2       9 km  2012      1    1  \n",
       "3        NaN  2012      1    1  \n",
       "4        NaN  2012      1    1  "
      ]
     },
     "execution_count": 77,
     "metadata": {},
     "output_type": "execute_result"
    }
   ],
   "source": [
    "weather.drop(labels='Unnamed: 0', axis=1, inplace=True)\n",
    "weather.head()"
   ]
  },
  {
   "cell_type": "markdown",
   "metadata": {},
   "source": [
    "The inplace flag tell the function to replace the current table by the new table, in which the 'unnamed: 0' column was removed. Now let check if other columns contain unwanted data (NaN for example)"
   ]
  },
  {
   "cell_type": "code",
   "execution_count": 88,
   "metadata": {},
   "outputs": [
    {
     "name": "stdout",
     "output_type": "stream",
     "text": [
      "['00:20', '00:50', '01:50', '02:20', '02:50', '03:20', '03:50', '04:20', '04:50', '05:20', '05:50', '06:20', '06:50', '07:20', '07:50', '08:50', '09:20', '09:50', '10:20', '10:50', '11:20', '11:50', '12:20', '12:50', '13:20', '13:50', '14:20', '14:50', '15:20', '15:50', '16:20', '16:50', '17:20', '17:50', '18:20', '18:50', '19:20', '19:50', '20:50', '21:20', '21:50', '22:20', '22:50', '23:20', '23:50', '01:20', '08:20', '20:20']\n"
     ]
    }
   ],
   "source": [
    "clock_ls = weather['clock'].tolist()\n",
    "clock_ls = list(dict.fromkeys(clock_ls))\n",
    "print(clock_ls)"
   ]
  },
  {
   "cell_type": "markdown",
   "metadata": {},
   "source": [
    "The list is first converted to a dictionary. Since a dictionary does not accept duplicate keys, all duplicated values are removed. At the end, we have a list of values in a column. This method can be applied to the rest of the table."
   ]
  },
  {
   "cell_type": "code",
   "execution_count": 89,
   "metadata": {},
   "outputs": [
    {
     "name": "stdout",
     "output_type": "stream",
     "text": [
      "['11\\xa0°C', '12\\xa0°C', '13\\xa0°C', '14\\xa0°C', '10\\xa0°C', '9\\xa0°C', '8\\xa0°C', '7\\xa0°C', '6\\xa0°C', '5\\xa0°C', '4\\xa0°C', '3\\xa0°C', '2\\xa0°C', '1\\xa0°C', '0\\xa0°C', '-1\\xa0°C', '-2\\xa0°C', '-3\\xa0°C', '-4\\xa0°C', '-5\\xa0°C', '-6\\xa0°C', '-7\\xa0°C', '-8\\xa0°C', '-9\\xa0°C', '-10\\xa0°C', '-11\\xa0°C', '-14\\xa0°C', '-12\\xa0°C', '-13\\xa0°C', '-15\\xa0°C', '15\\xa0°C', '16\\xa0°C', '17\\xa0°C', '18\\xa0°C', '19\\xa0°C', '20\\xa0°C', nan, '21\\xa0°C', '22\\xa0°C', '23\\xa0°C', '24\\xa0°C', '25\\xa0°C', '26\\xa0°C', '27\\xa0°C', '28\\xa0°C', '29\\xa0°C', '30\\xa0°C', '31\\xa0°C', '32\\xa0°C', '33\\xa0°C', '34\\xa0°C', '35\\xa0°C', '36\\xa0°C', '37\\xa0°C', '38\\xa0°C', '39\\xa0°C', '40\\xa0°C']\n"
     ]
    }
   ],
   "source": [
    "temp_ls = weather['temp'].tolist()\n",
    "temp_ls = list(dict.fromkeys(temp_ls))\n",
    "print(temp_ls)"
   ]
  },
  {
   "cell_type": "markdown",
   "metadata": {},
   "source": [
    "Does not look so beutiful. But at least we do not see any strange value. The unit (oC) can be removed from this list. However we later will use a different method to remove it from the data frame. There is no point to do it right now."
   ]
  },
  {
   "cell_type": "code",
   "execution_count": 90,
   "metadata": {},
   "outputs": [
    {
     "name": "stdout",
     "output_type": "stream",
     "text": [
      "['Mostly cloudy.', 'Overcast.', 'Partly cloudy.', 'Sprinkles. Mostly cloudy.', 'Sprinkles. Partly cloudy.', 'Sprinkles. Fog.', 'Light rain. Mostly cloudy.', 'Low clouds.', 'Fog.', 'Sprinkles. Overcast.', 'Sprinkles. More clouds than sun.', 'Cloudy.', 'Light rain. Overcast.', 'Light rain. More clouds than sun.', 'Light rain. Cloudy.', 'Light rain. Broken clouds.', 'Sprinkles. Passing clouds.', 'Light rain. Partly cloudy.', 'Hail. Partly cloudy.', 'Light rain. Passing clouds.', 'Passing clouds.', 'Scattered clouds.', 'Clear.', 'Partly sunny.', 'Light rain. Partly sunny.', 'Light rain. Fog.', 'Rain. Fog.', 'Rain. Passing clouds.', 'Broken clouds.', 'Heavy rain. Partly cloudy.', 'Rain showers. Broken clouds.', 'Rain showers. Partly cloudy.', 'More clouds than sun.', 'Sprinkles. Low clouds.', 'Sprinkles. Broken clouds.', 'Chilly.', 'Ice fog.', 'Light fog.', 'Sunny.', 'Cold.', 'Drizzle. Partly sunny.', 'Drizzle. Fog.', 'Rain showers. Passing clouds.', 'Light rain. Scattered clouds.', 'Drizzle. Overcast.', 'Sprinkles. Scattered clouds.', 'Rain showers. Fog.', 'Drizzle. Broken clouds.', 'Drizzle. Low clouds.', 'Light rain. Low clouds.', 'Scattered showers. Partly cloudy.', 'Light snow. Ice fog.', 'Snow flurries. Ice fog.', 'Light snow. Partly sunny.', 'Snow. Ice fog.', 'Snow. Partly sunny.', 'Light snow. Broken clouds.', 'Light snow. Partly cloudy.', 'Light snow. Passing clouds.', 'Frigid.', 'Snow flurries. Partly sunny.', 'Snow flurries. Partly cloudy.', 'Light mixture of precip. Ice fog.', 'Light freezing rain. Ice fog.', 'Dense fog.', 'Sprinkles. Partly sunny.', 'Light rain. Clear.', 'Quite Cool.', 'Cool.', 'Rain. Partly sunny.', 'Rain. Partly cloudy.', 'Rain. Overcast.', 'Rain. Mostly cloudy.', 'Drizzle. Mostly cloudy.', 'Rain. Broken clouds.', 'Haze.', 'Rain showers. Partly sunny.', 'Scattered showers. Clear.', 'Scattered showers. Passing clouds.', 'Sprinkles. Clear.', 'Heavy rain. Passing clouds.', 'Thunderstorms. Passing clouds.', 'Thunderstorms. Broken clouds.', 'Rain showers. Scattered clouds.', 'Heavy rain. Mostly cloudy.', 'Thundershowers. Passing clouds.', 'Mild.', 'Thundershowers. Scattered clouds.', 'Sprinkles. Cloudy.', 'Strong thunderstorms. Fog.', 'Thunderstorms. Fog.', 'Thunderstorms. Scattered clouds.', 'Lots of rain. Scattered clouds.', 'Lots of rain. Broken clouds.', 'Rain showers. Overcast.', 'Rain. Low clouds.', 'Lots of rain. Partly cloudy.', 'Drizzle. More clouds than sun.', 'Rain showers. Low clouds.', 'Lots of rain. Low clouds.', 'Quite cool.', 'Lots of rain. Overcast.', 'Rain. Clear.', 'Rain. More clouds than sun.', 'Lots of rain. Fog.', 'Light snow. Dense fog.', 'Snow flurries. Dense fog.', 'Snow flurries. Fog.', 'Light snow. Fog.', 'Sprinkles. Dense fog.', 'Rain showers. Mostly cloudy.', 'Snow. Passing clouds.', 'Snow. Broken clouds.', 'Snow flurries. Overcast.', 'Snow. Partly cloudy.', 'Light snow. Mostly cloudy.', 'Light rain. Ice fog.', 'Light snow. Scattered clouds.', 'Heavy snow. Mostly cloudy.', 'Heavy snow. Ice fog.', 'Light freezing rain. Broken clouds.', 'Drizzle. Cloudy.', 'Snow showers. Partly cloudy.', 'Light snow. Low clouds.', 'Light freezing rain. Passing clouds.', 'Snow flurries. Broken clouds.', 'Snow flurries. Passing clouds.', 'Light snow. Overcast.', 'Light freezing rain. Partly sunny.', 'Freezing rain. Broken clouds.', 'Snow flurries. Scattered clouds.', 'Light snow. Light fog.', 'Light mixture of precip. Mostly cloudy.', 'Snow flurries. Low clouds.', 'Snow flurries. Mostly cloudy.', 'Light snow. More clouds than sun.', 'Snow showers. Broken clouds.', 'Sleet. Fog.', 'Snow. Fog.', 'Light snow. Clear.', 'Light mixture of precip. Broken clouds.', 'Light mixture of precip. Passing clouds.', 'Sleet. Partly cloudy.', 'Light mixture of precip. Overcast.', 'Rain. Scattered clouds.', 'Thunderstorms. Partly sunny.', 'Lots of rain. Mostly cloudy.', 'Heavy rain. Broken clouds.', 'Thundershowers. Fog.', 'Lots of rain. Passing clouds.', 'Heavy rain. Overcast.', 'Scattered showers. Scattered clouds.', 'Heavy rain. Low clouds.', 'Light rain. Dense fog.', 'Sleet. Low clouds.', 'Heavy rain. Fog.', 'Thunderstorms. Partly cloudy.', nan, 'Lots of rain. Partly sunny.', 'Sleet. Cloudy.', 'Thundershowers. Partly cloudy.', 'Thundershowers. Broken clouds.', 'Light freezing rain. Mostly cloudy.', 'Light freezing rain. Fog.', 'Light freezing rain. Overcast.', 'Freezing rain. Ice fog.', 'Snow flurries. Light fog.', 'Snow. Mostly cloudy.', 'Thundershowers. Partly sunny.', 'Scattered showers. Broken clouds.', 'Strong thunderstorms. Broken clouds.', 'Light mixture of precip. Dense fog.', 'Sleet. Ice fog.', 'Light freezing rain. Partly cloudy.', 'Light freezing rain. Low clouds.', 'Drizzle. Ice fog.', 'Snow. Dense fog.', 'Light rain. Light fog.', 'Scattered showers. Partly sunny.', 'Rain. Cloudy.', 'Snow showers. Fog.', 'Snow. Low clouds.', 'Snow showers. Partly sunny.', 'Hail. Passing clouds.', 'Strong thunderstorms. Partly cloudy.', 'Freezing rain. Mostly cloudy.', 'Freezing rain. Overcast.', 'Light mixture of precip. Partly cloudy.', 'Sprinkles. Light fog.', 'Sandstorm.']\n"
     ]
    }
   ],
   "source": [
    "weather_ls = weather['weather'].tolist()\n",
    "weather_ls = list(dict.fromkeys(weather_ls))\n",
    "print(weather_ls)"
   ]
  },
  {
   "cell_type": "markdown",
   "metadata": {},
   "source": [
    "This column describes how the weather looked like. Each states ends with a dot '.' and at a moment there can be more than one weather state that suit."
   ]
  },
  {
   "cell_type": "code",
   "execution_count": 92,
   "metadata": {},
   "outputs": [
    {
     "name": "stdout",
     "output_type": "stream",
     "text": [
      "['17 km/h', '19 km/h', '15 km/h', '22 km/h', '24 km/h', '20 km/h', '26 km/h', '28 km/h', '33 km/h', '35 km/h', '32 km/h', '11 km/h', '13 km/h', '30 km/h', '44 km/h', '43 km/h', '39 km/h', '41 km/h', '46 km/h', '37 km/h', '54 km/h', '48 km/h', '9 km/h', '7 km/h', '4 km/h', '6 km/h', '2 km/h', 'No wind', nan, '50 km/h', '52 km/h', '57 km/h', '67 km/h', '65 km/h', '59 km/h']\n"
     ]
    }
   ],
   "source": [
    "wind_ls = weather['wind'].tolist()\n",
    "wind_ls = list(dict.fromkeys(wind_ls))\n",
    "print(wind_ls)"
   ]
  },
  {
   "cell_type": "markdown",
   "metadata": {},
   "source": [
    "Here we see two non-numerical values which are 'No wind' and 'nan'. We will have to replace these value with numerical values later."
   ]
  },
  {
   "cell_type": "code",
   "execution_count": 93,
   "metadata": {},
   "outputs": [
    {
     "name": "stdout",
     "output_type": "stream",
     "text": [
      "['94%', '88%', '82%', '87%', '76%', '71%', '66%', '61%', '81%', '77%', '67%', '93%', '70%', '57%', '75%', '100%', '80%', '86%', '65%', '69%', '56%', '52%', '49%', '46%', '42%', '60%', nan, '62%', '74%', '79%', '73%', '68%', '63%', '59%', '50%', '43%', '40%', '37%', '34%', '39%', '45%', '58%', '53%', '36%', '54%', '85%', '92%', '51%', '47%', '48%', '64%', '72%', '55%', '35%', '44%', '83%', '38%', '78%', '41%', '32%', '33%', '30%', '24%', '23%', '26%', '28%', '29%', '31%', '89%', '27%', '25%', '22%', '21%', '20%', '19%']\n"
     ]
    }
   ],
   "source": [
    "humidity_ls = weather['humidity'].tolist()\n",
    "humidity_ls = list(dict.fromkeys(humidity_ls))\n",
    "print(humidity_ls)"
   ]
  },
  {
   "cell_type": "code",
   "execution_count": 94,
   "metadata": {},
   "outputs": [
    {
     "name": "stdout",
     "output_type": "stream",
     "text": [
      "['1011 mbar', '1010 mbar', '1009 mbar', '1008 mbar', '1007 mbar', '1006 mbar', '1005 mbar', '1004 mbar', '1003 mbar', '1002 mbar', '1012 mbar', '1013 mbar', '1014 mbar', '1015 mbar', '1016 mbar', '1001 mbar', '1000 mbar', '1017 mbar', '1018 mbar', '1019 mbar', '999 mbar', '998 mbar', '997 mbar', '996 mbar', '995 mbar', '993 mbar', '992 mbar', '994 mbar', '1020 mbar', '1021 mbar', '1022 mbar', '1023 mbar', '1024 mbar', '1025 mbar', '1026 mbar', '1027 mbar', '1028 mbar', '1029 mbar', '1030 mbar', '1031 mbar', '1032 mbar', '1033 mbar', '1034 mbar', '1035 mbar', '1036 mbar', '1037 mbar', '1038 mbar', '1039 mbar', '1040 mbar', '1041 mbar', '991 mbar', '990 mbar', '989 mbar', '988 mbar', '987 mbar', '986 mbar', '985 mbar', nan, '984 mbar', '982 mbar', '981 mbar', '983 mbar', '980 mbar', '979 mbar', '978 mbar', '977 mbar', '976 mbar', '975 mbar', '974 mbar', '973 mbar', '1042 mbar', '1043 mbar', '1044 mbar', '1045 mbar', '1046 mbar', '972 mbar', '971 mbar', '970 mbar']\n"
     ]
    }
   ],
   "source": [
    "barometer_ls = weather['barometer'].tolist()\n",
    "barometer_ls = list(dict.fromkeys(barometer_ls))\n",
    "print(barometer_ls)"
   ]
  },
  {
   "cell_type": "code",
   "execution_count": 95,
   "metadata": {},
   "outputs": [
    {
     "name": "stdout",
     "output_type": "stream",
     "text": [
      "['5\\xa0km', nan, '9\\xa0km', '4\\xa0km', '3\\xa0km', '7\\xa0km', '6\\xa0km', '8\\xa0km', '16\\xa0km', '2\\xa0km', '1\\xa0km', '0\\xa0km']\n"
     ]
    }
   ],
   "source": [
    "visibility_ls = weather['visibility'].tolist()\n",
    "visibility_ls = list(dict.fromkeys(visibility_ls))\n",
    "print(visibility_ls)"
   ]
  },
  {
   "cell_type": "code",
   "execution_count": 96,
   "metadata": {},
   "outputs": [
    {
     "name": "stdout",
     "output_type": "stream",
     "text": [
      "[2012, 2013, 2014, 2015, 2016, 2017, 2018, 2019]\n"
     ]
    }
   ],
   "source": [
    "year_ls = weather['year'].tolist()\n",
    "year_ls = list(dict.fromkeys(year_ls))\n",
    "print(year_ls)"
   ]
  },
  {
   "cell_type": "code",
   "execution_count": 97,
   "metadata": {},
   "outputs": [
    {
     "name": "stdout",
     "output_type": "stream",
     "text": [
      "[1, 2, 3, 4, 5, 6, 7, 8, 9, 10, 11, 12]\n"
     ]
    }
   ],
   "source": [
    "month_ls = weather['month'].tolist()\n",
    "month_ls = list(dict.fromkeys(month_ls))\n",
    "print(month_ls)"
   ]
  },
  {
   "cell_type": "code",
   "execution_count": 98,
   "metadata": {},
   "outputs": [
    {
     "name": "stdout",
     "output_type": "stream",
     "text": [
      "[1, 2, 3, 4, 5, 6, 7, 8, 9, 10, 11, 12, 13, 14, 15, 16, 17, 18, 19, 20, 21, 22, 23, 24, 25, 26, 27, 28, 29, 30]\n"
     ]
    }
   ],
   "source": [
    "day_ls = weather['day'].tolist()\n",
    "day_ls = list(dict.fromkeys(day_ls))\n",
    "print(day_ls)"
   ]
  },
  {
   "cell_type": "markdown",
   "metadata": {},
   "source": [
    "We see that there are some columns that contain non-numerical values. Now we will deal with this."
   ]
  },
  {
   "cell_type": "code",
   "execution_count": 119,
   "metadata": {},
   "outputs": [
    {
     "name": "stdout",
     "output_type": "stream",
     "text": [
      "66279\n"
     ]
    }
   ],
   "source": [
    "null_num = 0\n",
    "for d in weather['visibility']:\n",
    "    if str(d) == 'nan':\n",
    "        null_num = null_num + 1\n",
    "print(null_num)    "
   ]
  },
  {
   "cell_type": "code",
   "execution_count": 121,
   "metadata": {},
   "outputs": [
    {
     "data": {
      "text/plain": [
       "133669"
      ]
     },
     "execution_count": 121,
     "metadata": {},
     "output_type": "execute_result"
    }
   ],
   "source": [
    "len(weather['visibility'].tolist())"
   ]
  },
  {
   "cell_type": "markdown",
   "metadata": {},
   "source": [
    "Over a half of the elements are 'nan', which makes this columns become almost useless. So let drop it out."
   ]
  },
  {
   "cell_type": "code",
   "execution_count": 122,
   "metadata": {},
   "outputs": [
    {
     "data": {
      "text/html": [
       "<div>\n",
       "<style scoped>\n",
       "    .dataframe tbody tr th:only-of-type {\n",
       "        vertical-align: middle;\n",
       "    }\n",
       "\n",
       "    .dataframe tbody tr th {\n",
       "        vertical-align: top;\n",
       "    }\n",
       "\n",
       "    .dataframe thead th {\n",
       "        text-align: right;\n",
       "    }\n",
       "</style>\n",
       "<table border=\"1\" class=\"dataframe\">\n",
       "  <thead>\n",
       "    <tr style=\"text-align: right;\">\n",
       "      <th></th>\n",
       "      <th>clock</th>\n",
       "      <th>temp</th>\n",
       "      <th>weather</th>\n",
       "      <th>wind</th>\n",
       "      <th>humidity</th>\n",
       "      <th>barometer</th>\n",
       "      <th>year</th>\n",
       "      <th>month</th>\n",
       "      <th>day</th>\n",
       "    </tr>\n",
       "  </thead>\n",
       "  <tbody>\n",
       "    <tr>\n",
       "      <th>0</th>\n",
       "      <td>00:20</td>\n",
       "      <td>11 °C</td>\n",
       "      <td>Mostly cloudy.</td>\n",
       "      <td>17 km/h</td>\n",
       "      <td>94%</td>\n",
       "      <td>1011 mbar</td>\n",
       "      <td>2012</td>\n",
       "      <td>1</td>\n",
       "      <td>1</td>\n",
       "    </tr>\n",
       "    <tr>\n",
       "      <th>1</th>\n",
       "      <td>00:50</td>\n",
       "      <td>12 °C</td>\n",
       "      <td>Mostly cloudy.</td>\n",
       "      <td>17 km/h</td>\n",
       "      <td>88%</td>\n",
       "      <td>1011 mbar</td>\n",
       "      <td>2012</td>\n",
       "      <td>1</td>\n",
       "      <td>1</td>\n",
       "    </tr>\n",
       "    <tr>\n",
       "      <th>2</th>\n",
       "      <td>01:50</td>\n",
       "      <td>12 °C</td>\n",
       "      <td>Overcast.</td>\n",
       "      <td>19 km/h</td>\n",
       "      <td>88%</td>\n",
       "      <td>1011 mbar</td>\n",
       "      <td>2012</td>\n",
       "      <td>1</td>\n",
       "      <td>1</td>\n",
       "    </tr>\n",
       "    <tr>\n",
       "      <th>3</th>\n",
       "      <td>02:20</td>\n",
       "      <td>12 °C</td>\n",
       "      <td>Partly cloudy.</td>\n",
       "      <td>17 km/h</td>\n",
       "      <td>88%</td>\n",
       "      <td>1010 mbar</td>\n",
       "      <td>2012</td>\n",
       "      <td>1</td>\n",
       "      <td>1</td>\n",
       "    </tr>\n",
       "    <tr>\n",
       "      <th>4</th>\n",
       "      <td>02:50</td>\n",
       "      <td>12 °C</td>\n",
       "      <td>Sprinkles. Mostly cloudy.</td>\n",
       "      <td>15 km/h</td>\n",
       "      <td>88%</td>\n",
       "      <td>1010 mbar</td>\n",
       "      <td>2012</td>\n",
       "      <td>1</td>\n",
       "      <td>1</td>\n",
       "    </tr>\n",
       "  </tbody>\n",
       "</table>\n",
       "</div>"
      ],
      "text/plain": [
       "   clock   temp                    weather     wind humidity  barometer  year  \\\n",
       "0  00:20  11 °C             Mostly cloudy.  17 km/h      94%  1011 mbar  2012   \n",
       "1  00:50  12 °C             Mostly cloudy.  17 km/h      88%  1011 mbar  2012   \n",
       "2  01:50  12 °C                  Overcast.  19 km/h      88%  1011 mbar  2012   \n",
       "3  02:20  12 °C             Partly cloudy.  17 km/h      88%  1010 mbar  2012   \n",
       "4  02:50  12 °C  Sprinkles. Mostly cloudy.  15 km/h      88%  1010 mbar  2012   \n",
       "\n",
       "   month  day  \n",
       "0      1    1  \n",
       "1      1    1  \n",
       "2      1    1  \n",
       "3      1    1  \n",
       "4      1    1  "
      ]
     },
     "execution_count": 122,
     "metadata": {},
     "output_type": "execute_result"
    }
   ],
   "source": [
    "weather.drop(labels='visibility', axis=1, inplace=True)\n",
    "weather.head()"
   ]
  },
  {
   "cell_type": "markdown",
   "metadata": {},
   "source": [
    "Now let remove the units out of the table."
   ]
  },
  {
   "cell_type": "code",
   "execution_count": 153,
   "metadata": {},
   "outputs": [],
   "source": [
    "def clean_wind(obj):\n",
    "    if isinstance(obj, str):\n",
    "        if obj == 'No wind':\n",
    "            obj = 0\n",
    "        else:\n",
    "            obj = obj.replace(' km/h','')\n",
    "    return obj\n",
    "\n",
    "def clean_temp(obj):\n",
    "    if isinstance(obj, str):\n",
    "        obj = obj.replace('\\xa0°C','')\n",
    "    return obj\n",
    "    \n",
    "def clean_humidity(obj):\n",
    "    if isinstance(obj, str):\n",
    "        obj = obj.replace('%', '')\n",
    "    return obj\n",
    "\n",
    "def clean_barometer(obj):\n",
    "    if isinstance(obj, str):\n",
    "        obj = obj.replace(' mbar', '')\n",
    "    return obj"
   ]
  },
  {
   "cell_type": "code",
   "execution_count": 158,
   "metadata": {},
   "outputs": [],
   "source": [
    "def trans_data(table):\n",
    "    table['temp'] = (table['temp'].apply(clean_temp)).astype(float)    \n",
    "    table['wind'] = (table['wind'].apply(clean_wind)).astype(float)\n",
    "    table['humidity'] = (table['humidity'].apply(clean_humidity)).astype(float)\n",
    "    table['barometer'] = (table['barometer'].apply(clean_barometer)).astype(float)\n",
    "    return table"
   ]
  },
  {
   "cell_type": "code",
   "execution_count": 159,
   "metadata": {},
   "outputs": [
    {
     "data": {
      "text/html": [
       "<div>\n",
       "<style scoped>\n",
       "    .dataframe tbody tr th:only-of-type {\n",
       "        vertical-align: middle;\n",
       "    }\n",
       "\n",
       "    .dataframe tbody tr th {\n",
       "        vertical-align: top;\n",
       "    }\n",
       "\n",
       "    .dataframe thead th {\n",
       "        text-align: right;\n",
       "    }\n",
       "</style>\n",
       "<table border=\"1\" class=\"dataframe\">\n",
       "  <thead>\n",
       "    <tr style=\"text-align: right;\">\n",
       "      <th></th>\n",
       "      <th>clock</th>\n",
       "      <th>temp</th>\n",
       "      <th>weather</th>\n",
       "      <th>wind</th>\n",
       "      <th>humidity</th>\n",
       "      <th>barometer</th>\n",
       "      <th>year</th>\n",
       "      <th>month</th>\n",
       "      <th>day</th>\n",
       "    </tr>\n",
       "  </thead>\n",
       "  <tbody>\n",
       "    <tr>\n",
       "      <th>0</th>\n",
       "      <td>00:20</td>\n",
       "      <td>11.0</td>\n",
       "      <td>Mostly cloudy.</td>\n",
       "      <td>17.0</td>\n",
       "      <td>94.0</td>\n",
       "      <td>1011.0</td>\n",
       "      <td>2012</td>\n",
       "      <td>1</td>\n",
       "      <td>1</td>\n",
       "    </tr>\n",
       "    <tr>\n",
       "      <th>1</th>\n",
       "      <td>00:50</td>\n",
       "      <td>12.0</td>\n",
       "      <td>Mostly cloudy.</td>\n",
       "      <td>17.0</td>\n",
       "      <td>88.0</td>\n",
       "      <td>1011.0</td>\n",
       "      <td>2012</td>\n",
       "      <td>1</td>\n",
       "      <td>1</td>\n",
       "    </tr>\n",
       "    <tr>\n",
       "      <th>2</th>\n",
       "      <td>01:50</td>\n",
       "      <td>12.0</td>\n",
       "      <td>Overcast.</td>\n",
       "      <td>19.0</td>\n",
       "      <td>88.0</td>\n",
       "      <td>1011.0</td>\n",
       "      <td>2012</td>\n",
       "      <td>1</td>\n",
       "      <td>1</td>\n",
       "    </tr>\n",
       "    <tr>\n",
       "      <th>3</th>\n",
       "      <td>02:20</td>\n",
       "      <td>12.0</td>\n",
       "      <td>Partly cloudy.</td>\n",
       "      <td>17.0</td>\n",
       "      <td>88.0</td>\n",
       "      <td>1010.0</td>\n",
       "      <td>2012</td>\n",
       "      <td>1</td>\n",
       "      <td>1</td>\n",
       "    </tr>\n",
       "    <tr>\n",
       "      <th>4</th>\n",
       "      <td>02:50</td>\n",
       "      <td>12.0</td>\n",
       "      <td>Sprinkles. Mostly cloudy.</td>\n",
       "      <td>15.0</td>\n",
       "      <td>88.0</td>\n",
       "      <td>1010.0</td>\n",
       "      <td>2012</td>\n",
       "      <td>1</td>\n",
       "      <td>1</td>\n",
       "    </tr>\n",
       "  </tbody>\n",
       "</table>\n",
       "</div>"
      ],
      "text/plain": [
       "   clock  temp                    weather  wind  humidity  barometer  year  \\\n",
       "0  00:20  11.0             Mostly cloudy.  17.0      94.0     1011.0  2012   \n",
       "1  00:50  12.0             Mostly cloudy.  17.0      88.0     1011.0  2012   \n",
       "2  01:50  12.0                  Overcast.  19.0      88.0     1011.0  2012   \n",
       "3  02:20  12.0             Partly cloudy.  17.0      88.0     1010.0  2012   \n",
       "4  02:50  12.0  Sprinkles. Mostly cloudy.  15.0      88.0     1010.0  2012   \n",
       "\n",
       "   month  day  \n",
       "0      1    1  \n",
       "1      1    1  \n",
       "2      1    1  \n",
       "3      1    1  \n",
       "4      1    1  "
      ]
     },
     "execution_count": 159,
     "metadata": {},
     "output_type": "execute_result"
    }
   ],
   "source": [
    "weather_tran = trans_data(weather)\n",
    "weather_tran.head()"
   ]
  },
  {
   "cell_type": "code",
   "execution_count": 160,
   "metadata": {},
   "outputs": [
    {
     "name": "stdout",
     "output_type": "stream",
     "text": [
      "<class 'pandas.core.frame.DataFrame'>\n",
      "RangeIndex: 133669 entries, 0 to 133668\n",
      "Data columns (total 9 columns):\n",
      " #   Column     Non-Null Count   Dtype  \n",
      "---  ------     --------------   -----  \n",
      " 0   clock      133669 non-null  object \n",
      " 1   temp       133650 non-null  float64\n",
      " 2   weather    133666 non-null  object \n",
      " 3   wind       133623 non-null  float64\n",
      " 4   humidity   133321 non-null  float64\n",
      " 5   barometer  133655 non-null  float64\n",
      " 6   year       133669 non-null  int64  \n",
      " 7   month      133669 non-null  int64  \n",
      " 8   day        133669 non-null  int64  \n",
      "dtypes: float64(4), int64(3), object(2)\n",
      "memory usage: 9.2+ MB\n"
     ]
    }
   ],
   "source": [
    "weather_tran.info()"
   ]
  },
  {
   "cell_type": "code",
   "execution_count": 163,
   "metadata": {},
   "outputs": [
    {
     "data": {
      "text/html": [
       "<div>\n",
       "<style scoped>\n",
       "    .dataframe tbody tr th:only-of-type {\n",
       "        vertical-align: middle;\n",
       "    }\n",
       "\n",
       "    .dataframe tbody tr th {\n",
       "        vertical-align: top;\n",
       "    }\n",
       "\n",
       "    .dataframe thead th {\n",
       "        text-align: right;\n",
       "    }\n",
       "</style>\n",
       "<table border=\"1\" class=\"dataframe\">\n",
       "  <thead>\n",
       "    <tr style=\"text-align: right;\">\n",
       "      <th></th>\n",
       "      <th>temp</th>\n",
       "      <th>weather</th>\n",
       "      <th>wind</th>\n",
       "      <th>humidity</th>\n",
       "      <th>barometer</th>\n",
       "      <th>date</th>\n",
       "    </tr>\n",
       "  </thead>\n",
       "  <tbody>\n",
       "    <tr>\n",
       "      <th>0</th>\n",
       "      <td>11.0</td>\n",
       "      <td>Mostly cloudy.</td>\n",
       "      <td>17.0</td>\n",
       "      <td>94.0</td>\n",
       "      <td>1011.0</td>\n",
       "      <td>2012-01-01 00:20:00</td>\n",
       "    </tr>\n",
       "    <tr>\n",
       "      <th>1</th>\n",
       "      <td>12.0</td>\n",
       "      <td>Mostly cloudy.</td>\n",
       "      <td>17.0</td>\n",
       "      <td>88.0</td>\n",
       "      <td>1011.0</td>\n",
       "      <td>2012-01-01 00:50:00</td>\n",
       "    </tr>\n",
       "    <tr>\n",
       "      <th>2</th>\n",
       "      <td>12.0</td>\n",
       "      <td>Overcast.</td>\n",
       "      <td>19.0</td>\n",
       "      <td>88.0</td>\n",
       "      <td>1011.0</td>\n",
       "      <td>2012-01-01 01:50:00</td>\n",
       "    </tr>\n",
       "    <tr>\n",
       "      <th>3</th>\n",
       "      <td>12.0</td>\n",
       "      <td>Partly cloudy.</td>\n",
       "      <td>17.0</td>\n",
       "      <td>88.0</td>\n",
       "      <td>1010.0</td>\n",
       "      <td>2012-01-01 02:20:00</td>\n",
       "    </tr>\n",
       "    <tr>\n",
       "      <th>4</th>\n",
       "      <td>12.0</td>\n",
       "      <td>Sprinkles. Mostly cloudy.</td>\n",
       "      <td>15.0</td>\n",
       "      <td>88.0</td>\n",
       "      <td>1010.0</td>\n",
       "      <td>2012-01-01 02:50:00</td>\n",
       "    </tr>\n",
       "  </tbody>\n",
       "</table>\n",
       "</div>"
      ],
      "text/plain": [
       "   temp                    weather  wind  humidity  barometer  \\\n",
       "0  11.0             Mostly cloudy.  17.0      94.0     1011.0   \n",
       "1  12.0             Mostly cloudy.  17.0      88.0     1011.0   \n",
       "2  12.0                  Overcast.  19.0      88.0     1011.0   \n",
       "3  12.0             Partly cloudy.  17.0      88.0     1010.0   \n",
       "4  12.0  Sprinkles. Mostly cloudy.  15.0      88.0     1010.0   \n",
       "\n",
       "                 date  \n",
       "0 2012-01-01 00:20:00  \n",
       "1 2012-01-01 00:50:00  \n",
       "2 2012-01-01 01:50:00  \n",
       "3 2012-01-01 02:20:00  \n",
       "4 2012-01-01 02:50:00  "
      ]
     },
     "execution_count": 163,
     "metadata": {},
     "output_type": "execute_result"
    }
   ],
   "source": [
    "#Form the date column \n",
    "def create_date(table):    \n",
    "    table['date'] = table.apply(lambda row:\n",
    "                                    f'{row.year}-{row.month}-{row.day} {row.clock}', axis=1)\n",
    "    table.date = pd.to_datetime(table.date)\n",
    "    return table.drop(['clock', 'year', 'month', 'day'], axis = 1)\n",
    "\n",
    "weather_tran = create_date(weather_tran)\n",
    "weather_tran.head()"
   ]
  },
  {
   "cell_type": "markdown",
   "metadata": {},
   "source": [
    "Here we have a decent dataset. However, the data of energy usage that we will use later were collected once per day. Therefore here we will calculate the everage of temp, wind, humidity, barometer of each day. The weather status cannot be used to calculate the everage. Therefore, we will take the status of the most powerful hour (15:20), according to the author of this dataset."
   ]
  },
  {
   "cell_type": "code",
   "execution_count": null,
   "metadata": {},
   "outputs": [],
   "source": []
  }
 ],
 "metadata": {
  "kernelspec": {
   "display_name": "Python 3",
   "language": "python",
   "name": "python3"
  },
  "language_info": {
   "codemirror_mode": {
    "name": "ipython",
    "version": 3
   },
   "file_extension": ".py",
   "mimetype": "text/x-python",
   "name": "python",
   "nbconvert_exporter": "python",
   "pygments_lexer": "ipython3",
   "version": "3.6.9"
  }
 },
 "nbformat": 4,
 "nbformat_minor": 4
}
