{
 "cells": [
  {
   "cell_type": "code",
   "execution_count": 32,
   "metadata": {},
   "outputs": [],
   "source": [
    "from fastai.collab import *\n",
    "from fastai.tabular.all import *\n",
    "from time import *"
   ]
  },
  {
   "cell_type": "code",
   "execution_count": 33,
   "metadata": {},
   "outputs": [
    {
     "data": {
      "text/plain": [
       "(#12) [Path('.git'),Path('SolarEnergyDataRefine.ipynb'),Path('SolarEnergy.zip'),Path('weather_in_Antwerp_future2.csv'),Path('Weather.zip'),Path('README.md'),Path('SolarEnergyDataRefine.html'),Path('PV_Elec_Gas3.csv'),Path('.ipynb_checkpoints'),Path('EnergyProduction_LinearRegression.ipynb')...]"
      ]
     },
     "execution_count": 33,
     "metadata": {},
     "output_type": "execute_result"
    }
   ],
   "source": [
    "path = Path('.')\n",
    "path.ls()"
   ]
  },
  {
   "cell_type": "markdown",
   "metadata": {},
   "source": [
    "Source: https://www.kaggle.com/ramima/weather-dataset-in-antwerp-belgium"
   ]
  },
  {
   "cell_type": "code",
   "execution_count": 34,
   "metadata": {},
   "outputs": [],
   "source": [
    "weather = pd.read_csv(path/'weather_in_Antwerp.csv', delimiter=';', engine='python',\n",
    "                     header=0)"
   ]
  },
  {
   "cell_type": "code",
   "execution_count": 35,
   "metadata": {},
   "outputs": [
    {
     "data": {
      "text/html": [
       "<div>\n",
       "<style scoped>\n",
       "    .dataframe tbody tr th:only-of-type {\n",
       "        vertical-align: middle;\n",
       "    }\n",
       "\n",
       "    .dataframe tbody tr th {\n",
       "        vertical-align: top;\n",
       "    }\n",
       "\n",
       "    .dataframe thead th {\n",
       "        text-align: right;\n",
       "    }\n",
       "</style>\n",
       "<table border=\"1\" class=\"dataframe\">\n",
       "  <thead>\n",
       "    <tr style=\"text-align: right;\">\n",
       "      <th></th>\n",
       "      <th>Unnamed: 0</th>\n",
       "      <th>clock</th>\n",
       "      <th>temp</th>\n",
       "      <th>weather</th>\n",
       "      <th>wind</th>\n",
       "      <th>humidity</th>\n",
       "      <th>barometer</th>\n",
       "      <th>visibility</th>\n",
       "      <th>year</th>\n",
       "      <th>month</th>\n",
       "      <th>day</th>\n",
       "    </tr>\n",
       "  </thead>\n",
       "  <tbody>\n",
       "    <tr>\n",
       "      <th>0</th>\n",
       "      <td>0</td>\n",
       "      <td>00:20</td>\n",
       "      <td>11 °C</td>\n",
       "      <td>Mostly cloudy.</td>\n",
       "      <td>17 km/h</td>\n",
       "      <td>94%</td>\n",
       "      <td>1011 mbar</td>\n",
       "      <td>5 km</td>\n",
       "      <td>2012</td>\n",
       "      <td>1</td>\n",
       "      <td>1</td>\n",
       "    </tr>\n",
       "    <tr>\n",
       "      <th>1</th>\n",
       "      <td>1</td>\n",
       "      <td>00:50</td>\n",
       "      <td>12 °C</td>\n",
       "      <td>Mostly cloudy.</td>\n",
       "      <td>17 km/h</td>\n",
       "      <td>88%</td>\n",
       "      <td>1011 mbar</td>\n",
       "      <td>NaN</td>\n",
       "      <td>2012</td>\n",
       "      <td>1</td>\n",
       "      <td>1</td>\n",
       "    </tr>\n",
       "    <tr>\n",
       "      <th>2</th>\n",
       "      <td>2</td>\n",
       "      <td>01:50</td>\n",
       "      <td>12 °C</td>\n",
       "      <td>Overcast.</td>\n",
       "      <td>19 km/h</td>\n",
       "      <td>88%</td>\n",
       "      <td>1011 mbar</td>\n",
       "      <td>9 km</td>\n",
       "      <td>2012</td>\n",
       "      <td>1</td>\n",
       "      <td>1</td>\n",
       "    </tr>\n",
       "    <tr>\n",
       "      <th>3</th>\n",
       "      <td>3</td>\n",
       "      <td>02:20</td>\n",
       "      <td>12 °C</td>\n",
       "      <td>Partly cloudy.</td>\n",
       "      <td>17 km/h</td>\n",
       "      <td>88%</td>\n",
       "      <td>1010 mbar</td>\n",
       "      <td>NaN</td>\n",
       "      <td>2012</td>\n",
       "      <td>1</td>\n",
       "      <td>1</td>\n",
       "    </tr>\n",
       "    <tr>\n",
       "      <th>4</th>\n",
       "      <td>4</td>\n",
       "      <td>02:50</td>\n",
       "      <td>12 °C</td>\n",
       "      <td>Sprinkles. Mostly cloudy.</td>\n",
       "      <td>15 km/h</td>\n",
       "      <td>88%</td>\n",
       "      <td>1010 mbar</td>\n",
       "      <td>NaN</td>\n",
       "      <td>2012</td>\n",
       "      <td>1</td>\n",
       "      <td>1</td>\n",
       "    </tr>\n",
       "  </tbody>\n",
       "</table>\n",
       "</div>"
      ],
      "text/plain": [
       "   Unnamed: 0  clock   temp                    weather     wind humidity  \\\n",
       "0           0  00:20  11 °C             Mostly cloudy.  17 km/h      94%   \n",
       "1           1  00:50  12 °C             Mostly cloudy.  17 km/h      88%   \n",
       "2           2  01:50  12 °C                  Overcast.  19 km/h      88%   \n",
       "3           3  02:20  12 °C             Partly cloudy.  17 km/h      88%   \n",
       "4           4  02:50  12 °C  Sprinkles. Mostly cloudy.  15 km/h      88%   \n",
       "\n",
       "   barometer visibility  year  month  day  \n",
       "0  1011 mbar       5 km  2012      1    1  \n",
       "1  1011 mbar        NaN  2012      1    1  \n",
       "2  1011 mbar       9 km  2012      1    1  \n",
       "3  1010 mbar        NaN  2012      1    1  \n",
       "4  1010 mbar        NaN  2012      1    1  "
      ]
     },
     "execution_count": 35,
     "metadata": {},
     "output_type": "execute_result"
    }
   ],
   "source": [
    "weather.head()"
   ]
  },
  {
   "cell_type": "markdown",
   "metadata": {},
   "source": [
    "One or some parameters (barometer for example) may not have effect on the amount of generated solar energy. However, in a linear regression model, this is not a big concern. Parameters that have small impact on the result simply have smaller coefficients.\n",
    "\n",
    "As shown in the table above, some data is missing. Therefore, the dataset needs to be cleaned. There are two index columns in thae table, so let start by removing one of them."
   ]
  },
  {
   "cell_type": "code",
   "execution_count": 36,
   "metadata": {},
   "outputs": [
    {
     "data": {
      "text/html": [
       "<div>\n",
       "<style scoped>\n",
       "    .dataframe tbody tr th:only-of-type {\n",
       "        vertical-align: middle;\n",
       "    }\n",
       "\n",
       "    .dataframe tbody tr th {\n",
       "        vertical-align: top;\n",
       "    }\n",
       "\n",
       "    .dataframe thead th {\n",
       "        text-align: right;\n",
       "    }\n",
       "</style>\n",
       "<table border=\"1\" class=\"dataframe\">\n",
       "  <thead>\n",
       "    <tr style=\"text-align: right;\">\n",
       "      <th></th>\n",
       "      <th>clock</th>\n",
       "      <th>temp</th>\n",
       "      <th>weather</th>\n",
       "      <th>wind</th>\n",
       "      <th>humidity</th>\n",
       "      <th>barometer</th>\n",
       "      <th>visibility</th>\n",
       "      <th>year</th>\n",
       "      <th>month</th>\n",
       "      <th>day</th>\n",
       "    </tr>\n",
       "  </thead>\n",
       "  <tbody>\n",
       "    <tr>\n",
       "      <th>0</th>\n",
       "      <td>00:20</td>\n",
       "      <td>11 °C</td>\n",
       "      <td>Mostly cloudy.</td>\n",
       "      <td>17 km/h</td>\n",
       "      <td>94%</td>\n",
       "      <td>1011 mbar</td>\n",
       "      <td>5 km</td>\n",
       "      <td>2012</td>\n",
       "      <td>1</td>\n",
       "      <td>1</td>\n",
       "    </tr>\n",
       "    <tr>\n",
       "      <th>1</th>\n",
       "      <td>00:50</td>\n",
       "      <td>12 °C</td>\n",
       "      <td>Mostly cloudy.</td>\n",
       "      <td>17 km/h</td>\n",
       "      <td>88%</td>\n",
       "      <td>1011 mbar</td>\n",
       "      <td>NaN</td>\n",
       "      <td>2012</td>\n",
       "      <td>1</td>\n",
       "      <td>1</td>\n",
       "    </tr>\n",
       "    <tr>\n",
       "      <th>2</th>\n",
       "      <td>01:50</td>\n",
       "      <td>12 °C</td>\n",
       "      <td>Overcast.</td>\n",
       "      <td>19 km/h</td>\n",
       "      <td>88%</td>\n",
       "      <td>1011 mbar</td>\n",
       "      <td>9 km</td>\n",
       "      <td>2012</td>\n",
       "      <td>1</td>\n",
       "      <td>1</td>\n",
       "    </tr>\n",
       "    <tr>\n",
       "      <th>3</th>\n",
       "      <td>02:20</td>\n",
       "      <td>12 °C</td>\n",
       "      <td>Partly cloudy.</td>\n",
       "      <td>17 km/h</td>\n",
       "      <td>88%</td>\n",
       "      <td>1010 mbar</td>\n",
       "      <td>NaN</td>\n",
       "      <td>2012</td>\n",
       "      <td>1</td>\n",
       "      <td>1</td>\n",
       "    </tr>\n",
       "    <tr>\n",
       "      <th>4</th>\n",
       "      <td>02:50</td>\n",
       "      <td>12 °C</td>\n",
       "      <td>Sprinkles. Mostly cloudy.</td>\n",
       "      <td>15 km/h</td>\n",
       "      <td>88%</td>\n",
       "      <td>1010 mbar</td>\n",
       "      <td>NaN</td>\n",
       "      <td>2012</td>\n",
       "      <td>1</td>\n",
       "      <td>1</td>\n",
       "    </tr>\n",
       "  </tbody>\n",
       "</table>\n",
       "</div>"
      ],
      "text/plain": [
       "   clock   temp                    weather     wind humidity  barometer  \\\n",
       "0  00:20  11 °C             Mostly cloudy.  17 km/h      94%  1011 mbar   \n",
       "1  00:50  12 °C             Mostly cloudy.  17 km/h      88%  1011 mbar   \n",
       "2  01:50  12 °C                  Overcast.  19 km/h      88%  1011 mbar   \n",
       "3  02:20  12 °C             Partly cloudy.  17 km/h      88%  1010 mbar   \n",
       "4  02:50  12 °C  Sprinkles. Mostly cloudy.  15 km/h      88%  1010 mbar   \n",
       "\n",
       "  visibility  year  month  day  \n",
       "0       5 km  2012      1    1  \n",
       "1        NaN  2012      1    1  \n",
       "2       9 km  2012      1    1  \n",
       "3        NaN  2012      1    1  \n",
       "4        NaN  2012      1    1  "
      ]
     },
     "execution_count": 36,
     "metadata": {},
     "output_type": "execute_result"
    }
   ],
   "source": [
    "weather.drop(labels='Unnamed: 0', axis=1, inplace=True)\n",
    "weather.head()"
   ]
  },
  {
   "cell_type": "markdown",
   "metadata": {},
   "source": [
    "The inplace flag tell the function to replace the current table by the new table, in which the 'unnamed: 0' column was removed. Now let check if other columns contain unwanted data (NaN for example)"
   ]
  },
  {
   "cell_type": "code",
   "execution_count": 88,
   "metadata": {},
   "outputs": [
    {
     "name": "stdout",
     "output_type": "stream",
     "text": [
      "['00:20', '00:50', '01:50', '02:20', '02:50', '03:20', '03:50', '04:20', '04:50', '05:20', '05:50', '06:20', '06:50', '07:20', '07:50', '08:50', '09:20', '09:50', '10:20', '10:50', '11:20', '11:50', '12:20', '12:50', '13:20', '13:50', '14:20', '14:50', '15:20', '15:50', '16:20', '16:50', '17:20', '17:50', '18:20', '18:50', '19:20', '19:50', '20:50', '21:20', '21:50', '22:20', '22:50', '23:20', '23:50', '01:20', '08:20', '20:20']\n"
     ]
    }
   ],
   "source": [
    "clock_ls = weather['clock'].tolist()\n",
    "clock_ls = list(dict.fromkeys(clock_ls))\n",
    "print(clock_ls)"
   ]
  },
  {
   "cell_type": "markdown",
   "metadata": {},
   "source": [
    "The list is first converted to a dictionary. Since a dictionary does not accept duplicate keys, all duplicated values are removed. At the end, we have a list of values in a column. This method can be applied to the rest of the table."
   ]
  },
  {
   "cell_type": "code",
   "execution_count": 89,
   "metadata": {},
   "outputs": [
    {
     "name": "stdout",
     "output_type": "stream",
     "text": [
      "['11\\xa0°C', '12\\xa0°C', '13\\xa0°C', '14\\xa0°C', '10\\xa0°C', '9\\xa0°C', '8\\xa0°C', '7\\xa0°C', '6\\xa0°C', '5\\xa0°C', '4\\xa0°C', '3\\xa0°C', '2\\xa0°C', '1\\xa0°C', '0\\xa0°C', '-1\\xa0°C', '-2\\xa0°C', '-3\\xa0°C', '-4\\xa0°C', '-5\\xa0°C', '-6\\xa0°C', '-7\\xa0°C', '-8\\xa0°C', '-9\\xa0°C', '-10\\xa0°C', '-11\\xa0°C', '-14\\xa0°C', '-12\\xa0°C', '-13\\xa0°C', '-15\\xa0°C', '15\\xa0°C', '16\\xa0°C', '17\\xa0°C', '18\\xa0°C', '19\\xa0°C', '20\\xa0°C', nan, '21\\xa0°C', '22\\xa0°C', '23\\xa0°C', '24\\xa0°C', '25\\xa0°C', '26\\xa0°C', '27\\xa0°C', '28\\xa0°C', '29\\xa0°C', '30\\xa0°C', '31\\xa0°C', '32\\xa0°C', '33\\xa0°C', '34\\xa0°C', '35\\xa0°C', '36\\xa0°C', '37\\xa0°C', '38\\xa0°C', '39\\xa0°C', '40\\xa0°C']\n"
     ]
    }
   ],
   "source": [
    "temp_ls = weather['temp'].tolist()\n",
    "temp_ls = list(dict.fromkeys(temp_ls))\n",
    "print(temp_ls)"
   ]
  },
  {
   "cell_type": "markdown",
   "metadata": {},
   "source": [
    "Does not look so beutiful. But at least we do not see any strange value. The unit (oC) can be removed from this list. However we later will use a different method to remove it from the data frame. There is no point to do it right now."
   ]
  },
  {
   "cell_type": "code",
   "execution_count": 90,
   "metadata": {},
   "outputs": [
    {
     "name": "stdout",
     "output_type": "stream",
     "text": [
      "['Mostly cloudy.', 'Overcast.', 'Partly cloudy.', 'Sprinkles. Mostly cloudy.', 'Sprinkles. Partly cloudy.', 'Sprinkles. Fog.', 'Light rain. Mostly cloudy.', 'Low clouds.', 'Fog.', 'Sprinkles. Overcast.', 'Sprinkles. More clouds than sun.', 'Cloudy.', 'Light rain. Overcast.', 'Light rain. More clouds than sun.', 'Light rain. Cloudy.', 'Light rain. Broken clouds.', 'Sprinkles. Passing clouds.', 'Light rain. Partly cloudy.', 'Hail. Partly cloudy.', 'Light rain. Passing clouds.', 'Passing clouds.', 'Scattered clouds.', 'Clear.', 'Partly sunny.', 'Light rain. Partly sunny.', 'Light rain. Fog.', 'Rain. Fog.', 'Rain. Passing clouds.', 'Broken clouds.', 'Heavy rain. Partly cloudy.', 'Rain showers. Broken clouds.', 'Rain showers. Partly cloudy.', 'More clouds than sun.', 'Sprinkles. Low clouds.', 'Sprinkles. Broken clouds.', 'Chilly.', 'Ice fog.', 'Light fog.', 'Sunny.', 'Cold.', 'Drizzle. Partly sunny.', 'Drizzle. Fog.', 'Rain showers. Passing clouds.', 'Light rain. Scattered clouds.', 'Drizzle. Overcast.', 'Sprinkles. Scattered clouds.', 'Rain showers. Fog.', 'Drizzle. Broken clouds.', 'Drizzle. Low clouds.', 'Light rain. Low clouds.', 'Scattered showers. Partly cloudy.', 'Light snow. Ice fog.', 'Snow flurries. Ice fog.', 'Light snow. Partly sunny.', 'Snow. Ice fog.', 'Snow. Partly sunny.', 'Light snow. Broken clouds.', 'Light snow. Partly cloudy.', 'Light snow. Passing clouds.', 'Frigid.', 'Snow flurries. Partly sunny.', 'Snow flurries. Partly cloudy.', 'Light mixture of precip. Ice fog.', 'Light freezing rain. Ice fog.', 'Dense fog.', 'Sprinkles. Partly sunny.', 'Light rain. Clear.', 'Quite Cool.', 'Cool.', 'Rain. Partly sunny.', 'Rain. Partly cloudy.', 'Rain. Overcast.', 'Rain. Mostly cloudy.', 'Drizzle. Mostly cloudy.', 'Rain. Broken clouds.', 'Haze.', 'Rain showers. Partly sunny.', 'Scattered showers. Clear.', 'Scattered showers. Passing clouds.', 'Sprinkles. Clear.', 'Heavy rain. Passing clouds.', 'Thunderstorms. Passing clouds.', 'Thunderstorms. Broken clouds.', 'Rain showers. Scattered clouds.', 'Heavy rain. Mostly cloudy.', 'Thundershowers. Passing clouds.', 'Mild.', 'Thundershowers. Scattered clouds.', 'Sprinkles. Cloudy.', 'Strong thunderstorms. Fog.', 'Thunderstorms. Fog.', 'Thunderstorms. Scattered clouds.', 'Lots of rain. Scattered clouds.', 'Lots of rain. Broken clouds.', 'Rain showers. Overcast.', 'Rain. Low clouds.', 'Lots of rain. Partly cloudy.', 'Drizzle. More clouds than sun.', 'Rain showers. Low clouds.', 'Lots of rain. Low clouds.', 'Quite cool.', 'Lots of rain. Overcast.', 'Rain. Clear.', 'Rain. More clouds than sun.', 'Lots of rain. Fog.', 'Light snow. Dense fog.', 'Snow flurries. Dense fog.', 'Snow flurries. Fog.', 'Light snow. Fog.', 'Sprinkles. Dense fog.', 'Rain showers. Mostly cloudy.', 'Snow. Passing clouds.', 'Snow. Broken clouds.', 'Snow flurries. Overcast.', 'Snow. Partly cloudy.', 'Light snow. Mostly cloudy.', 'Light rain. Ice fog.', 'Light snow. Scattered clouds.', 'Heavy snow. Mostly cloudy.', 'Heavy snow. Ice fog.', 'Light freezing rain. Broken clouds.', 'Drizzle. Cloudy.', 'Snow showers. Partly cloudy.', 'Light snow. Low clouds.', 'Light freezing rain. Passing clouds.', 'Snow flurries. Broken clouds.', 'Snow flurries. Passing clouds.', 'Light snow. Overcast.', 'Light freezing rain. Partly sunny.', 'Freezing rain. Broken clouds.', 'Snow flurries. Scattered clouds.', 'Light snow. Light fog.', 'Light mixture of precip. Mostly cloudy.', 'Snow flurries. Low clouds.', 'Snow flurries. Mostly cloudy.', 'Light snow. More clouds than sun.', 'Snow showers. Broken clouds.', 'Sleet. Fog.', 'Snow. Fog.', 'Light snow. Clear.', 'Light mixture of precip. Broken clouds.', 'Light mixture of precip. Passing clouds.', 'Sleet. Partly cloudy.', 'Light mixture of precip. Overcast.', 'Rain. Scattered clouds.', 'Thunderstorms. Partly sunny.', 'Lots of rain. Mostly cloudy.', 'Heavy rain. Broken clouds.', 'Thundershowers. Fog.', 'Lots of rain. Passing clouds.', 'Heavy rain. Overcast.', 'Scattered showers. Scattered clouds.', 'Heavy rain. Low clouds.', 'Light rain. Dense fog.', 'Sleet. Low clouds.', 'Heavy rain. Fog.', 'Thunderstorms. Partly cloudy.', nan, 'Lots of rain. Partly sunny.', 'Sleet. Cloudy.', 'Thundershowers. Partly cloudy.', 'Thundershowers. Broken clouds.', 'Light freezing rain. Mostly cloudy.', 'Light freezing rain. Fog.', 'Light freezing rain. Overcast.', 'Freezing rain. Ice fog.', 'Snow flurries. Light fog.', 'Snow. Mostly cloudy.', 'Thundershowers. Partly sunny.', 'Scattered showers. Broken clouds.', 'Strong thunderstorms. Broken clouds.', 'Light mixture of precip. Dense fog.', 'Sleet. Ice fog.', 'Light freezing rain. Partly cloudy.', 'Light freezing rain. Low clouds.', 'Drizzle. Ice fog.', 'Snow. Dense fog.', 'Light rain. Light fog.', 'Scattered showers. Partly sunny.', 'Rain. Cloudy.', 'Snow showers. Fog.', 'Snow. Low clouds.', 'Snow showers. Partly sunny.', 'Hail. Passing clouds.', 'Strong thunderstorms. Partly cloudy.', 'Freezing rain. Mostly cloudy.', 'Freezing rain. Overcast.', 'Light mixture of precip. Partly cloudy.', 'Sprinkles. Light fog.', 'Sandstorm.']\n"
     ]
    }
   ],
   "source": [
    "weather_ls = weather['weather'].tolist()\n",
    "weather_ls = list(dict.fromkeys(weather_ls))\n",
    "print(weather_ls)"
   ]
  },
  {
   "cell_type": "markdown",
   "metadata": {},
   "source": [
    "This column describes how the weather looked like. Each states ends with a dot '.' and at a moment there can be more than one weather state that suit."
   ]
  },
  {
   "cell_type": "code",
   "execution_count": 92,
   "metadata": {},
   "outputs": [
    {
     "name": "stdout",
     "output_type": "stream",
     "text": [
      "['17 km/h', '19 km/h', '15 km/h', '22 km/h', '24 km/h', '20 km/h', '26 km/h', '28 km/h', '33 km/h', '35 km/h', '32 km/h', '11 km/h', '13 km/h', '30 km/h', '44 km/h', '43 km/h', '39 km/h', '41 km/h', '46 km/h', '37 km/h', '54 km/h', '48 km/h', '9 km/h', '7 km/h', '4 km/h', '6 km/h', '2 km/h', 'No wind', nan, '50 km/h', '52 km/h', '57 km/h', '67 km/h', '65 km/h', '59 km/h']\n"
     ]
    }
   ],
   "source": [
    "wind_ls = weather['wind'].tolist()\n",
    "wind_ls = list(dict.fromkeys(wind_ls))\n",
    "print(wind_ls)"
   ]
  },
  {
   "cell_type": "markdown",
   "metadata": {},
   "source": [
    "Here we see two non-numerical values which are 'No wind' and 'nan'. We will have to replace these value with numerical values later."
   ]
  },
  {
   "cell_type": "code",
   "execution_count": 93,
   "metadata": {},
   "outputs": [
    {
     "name": "stdout",
     "output_type": "stream",
     "text": [
      "['94%', '88%', '82%', '87%', '76%', '71%', '66%', '61%', '81%', '77%', '67%', '93%', '70%', '57%', '75%', '100%', '80%', '86%', '65%', '69%', '56%', '52%', '49%', '46%', '42%', '60%', nan, '62%', '74%', '79%', '73%', '68%', '63%', '59%', '50%', '43%', '40%', '37%', '34%', '39%', '45%', '58%', '53%', '36%', '54%', '85%', '92%', '51%', '47%', '48%', '64%', '72%', '55%', '35%', '44%', '83%', '38%', '78%', '41%', '32%', '33%', '30%', '24%', '23%', '26%', '28%', '29%', '31%', '89%', '27%', '25%', '22%', '21%', '20%', '19%']\n"
     ]
    }
   ],
   "source": [
    "humidity_ls = weather['humidity'].tolist()\n",
    "humidity_ls = list(dict.fromkeys(humidity_ls))\n",
    "print(humidity_ls)"
   ]
  },
  {
   "cell_type": "code",
   "execution_count": 94,
   "metadata": {},
   "outputs": [
    {
     "name": "stdout",
     "output_type": "stream",
     "text": [
      "['1011 mbar', '1010 mbar', '1009 mbar', '1008 mbar', '1007 mbar', '1006 mbar', '1005 mbar', '1004 mbar', '1003 mbar', '1002 mbar', '1012 mbar', '1013 mbar', '1014 mbar', '1015 mbar', '1016 mbar', '1001 mbar', '1000 mbar', '1017 mbar', '1018 mbar', '1019 mbar', '999 mbar', '998 mbar', '997 mbar', '996 mbar', '995 mbar', '993 mbar', '992 mbar', '994 mbar', '1020 mbar', '1021 mbar', '1022 mbar', '1023 mbar', '1024 mbar', '1025 mbar', '1026 mbar', '1027 mbar', '1028 mbar', '1029 mbar', '1030 mbar', '1031 mbar', '1032 mbar', '1033 mbar', '1034 mbar', '1035 mbar', '1036 mbar', '1037 mbar', '1038 mbar', '1039 mbar', '1040 mbar', '1041 mbar', '991 mbar', '990 mbar', '989 mbar', '988 mbar', '987 mbar', '986 mbar', '985 mbar', nan, '984 mbar', '982 mbar', '981 mbar', '983 mbar', '980 mbar', '979 mbar', '978 mbar', '977 mbar', '976 mbar', '975 mbar', '974 mbar', '973 mbar', '1042 mbar', '1043 mbar', '1044 mbar', '1045 mbar', '1046 mbar', '972 mbar', '971 mbar', '970 mbar']\n"
     ]
    }
   ],
   "source": [
    "barometer_ls = weather['barometer'].tolist()\n",
    "barometer_ls = list(dict.fromkeys(barometer_ls))\n",
    "print(barometer_ls)"
   ]
  },
  {
   "cell_type": "code",
   "execution_count": 95,
   "metadata": {},
   "outputs": [
    {
     "name": "stdout",
     "output_type": "stream",
     "text": [
      "['5\\xa0km', nan, '9\\xa0km', '4\\xa0km', '3\\xa0km', '7\\xa0km', '6\\xa0km', '8\\xa0km', '16\\xa0km', '2\\xa0km', '1\\xa0km', '0\\xa0km']\n"
     ]
    }
   ],
   "source": [
    "visibility_ls = weather['visibility'].tolist()\n",
    "visibility_ls = list(dict.fromkeys(visibility_ls))\n",
    "print(visibility_ls)"
   ]
  },
  {
   "cell_type": "code",
   "execution_count": 96,
   "metadata": {},
   "outputs": [
    {
     "name": "stdout",
     "output_type": "stream",
     "text": [
      "[2012, 2013, 2014, 2015, 2016, 2017, 2018, 2019]\n"
     ]
    }
   ],
   "source": [
    "year_ls = weather['year'].tolist()\n",
    "year_ls = list(dict.fromkeys(year_ls))\n",
    "print(year_ls)"
   ]
  },
  {
   "cell_type": "code",
   "execution_count": 97,
   "metadata": {},
   "outputs": [
    {
     "name": "stdout",
     "output_type": "stream",
     "text": [
      "[1, 2, 3, 4, 5, 6, 7, 8, 9, 10, 11, 12]\n"
     ]
    }
   ],
   "source": [
    "month_ls = weather['month'].tolist()\n",
    "month_ls = list(dict.fromkeys(month_ls))\n",
    "print(month_ls)"
   ]
  },
  {
   "cell_type": "code",
   "execution_count": 98,
   "metadata": {},
   "outputs": [
    {
     "name": "stdout",
     "output_type": "stream",
     "text": [
      "[1, 2, 3, 4, 5, 6, 7, 8, 9, 10, 11, 12, 13, 14, 15, 16, 17, 18, 19, 20, 21, 22, 23, 24, 25, 26, 27, 28, 29, 30]\n"
     ]
    }
   ],
   "source": [
    "day_ls = weather['day'].tolist()\n",
    "day_ls = list(dict.fromkeys(day_ls))\n",
    "print(day_ls)"
   ]
  },
  {
   "cell_type": "markdown",
   "metadata": {},
   "source": [
    "We see that there are some columns that contain non-numerical values. Now we will deal with this."
   ]
  },
  {
   "cell_type": "code",
   "execution_count": 6,
   "metadata": {},
   "outputs": [
    {
     "name": "stdout",
     "output_type": "stream",
     "text": [
      "66279\n"
     ]
    }
   ],
   "source": [
    "null_num = 0\n",
    "for d in weather['visibility']:\n",
    "    if str(d) == 'nan':\n",
    "        null_num = null_num + 1\n",
    "print(null_num)    "
   ]
  },
  {
   "cell_type": "code",
   "execution_count": 7,
   "metadata": {},
   "outputs": [
    {
     "data": {
      "text/plain": [
       "133669"
      ]
     },
     "execution_count": 7,
     "metadata": {},
     "output_type": "execute_result"
    }
   ],
   "source": [
    "len(weather['visibility'].tolist())"
   ]
  },
  {
   "cell_type": "markdown",
   "metadata": {},
   "source": [
    "Over a half of the elements are 'nan', which makes this columns become almost useless. So let drop it out."
   ]
  },
  {
   "cell_type": "code",
   "execution_count": 37,
   "metadata": {},
   "outputs": [
    {
     "data": {
      "text/html": [
       "<div>\n",
       "<style scoped>\n",
       "    .dataframe tbody tr th:only-of-type {\n",
       "        vertical-align: middle;\n",
       "    }\n",
       "\n",
       "    .dataframe tbody tr th {\n",
       "        vertical-align: top;\n",
       "    }\n",
       "\n",
       "    .dataframe thead th {\n",
       "        text-align: right;\n",
       "    }\n",
       "</style>\n",
       "<table border=\"1\" class=\"dataframe\">\n",
       "  <thead>\n",
       "    <tr style=\"text-align: right;\">\n",
       "      <th></th>\n",
       "      <th>clock</th>\n",
       "      <th>temp</th>\n",
       "      <th>weather</th>\n",
       "      <th>wind</th>\n",
       "      <th>humidity</th>\n",
       "      <th>barometer</th>\n",
       "      <th>year</th>\n",
       "      <th>month</th>\n",
       "      <th>day</th>\n",
       "    </tr>\n",
       "  </thead>\n",
       "  <tbody>\n",
       "    <tr>\n",
       "      <th>0</th>\n",
       "      <td>00:20</td>\n",
       "      <td>11 °C</td>\n",
       "      <td>Mostly cloudy.</td>\n",
       "      <td>17 km/h</td>\n",
       "      <td>94%</td>\n",
       "      <td>1011 mbar</td>\n",
       "      <td>2012</td>\n",
       "      <td>1</td>\n",
       "      <td>1</td>\n",
       "    </tr>\n",
       "    <tr>\n",
       "      <th>1</th>\n",
       "      <td>00:50</td>\n",
       "      <td>12 °C</td>\n",
       "      <td>Mostly cloudy.</td>\n",
       "      <td>17 km/h</td>\n",
       "      <td>88%</td>\n",
       "      <td>1011 mbar</td>\n",
       "      <td>2012</td>\n",
       "      <td>1</td>\n",
       "      <td>1</td>\n",
       "    </tr>\n",
       "    <tr>\n",
       "      <th>2</th>\n",
       "      <td>01:50</td>\n",
       "      <td>12 °C</td>\n",
       "      <td>Overcast.</td>\n",
       "      <td>19 km/h</td>\n",
       "      <td>88%</td>\n",
       "      <td>1011 mbar</td>\n",
       "      <td>2012</td>\n",
       "      <td>1</td>\n",
       "      <td>1</td>\n",
       "    </tr>\n",
       "    <tr>\n",
       "      <th>3</th>\n",
       "      <td>02:20</td>\n",
       "      <td>12 °C</td>\n",
       "      <td>Partly cloudy.</td>\n",
       "      <td>17 km/h</td>\n",
       "      <td>88%</td>\n",
       "      <td>1010 mbar</td>\n",
       "      <td>2012</td>\n",
       "      <td>1</td>\n",
       "      <td>1</td>\n",
       "    </tr>\n",
       "    <tr>\n",
       "      <th>4</th>\n",
       "      <td>02:50</td>\n",
       "      <td>12 °C</td>\n",
       "      <td>Sprinkles. Mostly cloudy.</td>\n",
       "      <td>15 km/h</td>\n",
       "      <td>88%</td>\n",
       "      <td>1010 mbar</td>\n",
       "      <td>2012</td>\n",
       "      <td>1</td>\n",
       "      <td>1</td>\n",
       "    </tr>\n",
       "  </tbody>\n",
       "</table>\n",
       "</div>"
      ],
      "text/plain": [
       "   clock   temp                    weather     wind humidity  barometer  year  \\\n",
       "0  00:20  11 °C             Mostly cloudy.  17 km/h      94%  1011 mbar  2012   \n",
       "1  00:50  12 °C             Mostly cloudy.  17 km/h      88%  1011 mbar  2012   \n",
       "2  01:50  12 °C                  Overcast.  19 km/h      88%  1011 mbar  2012   \n",
       "3  02:20  12 °C             Partly cloudy.  17 km/h      88%  1010 mbar  2012   \n",
       "4  02:50  12 °C  Sprinkles. Mostly cloudy.  15 km/h      88%  1010 mbar  2012   \n",
       "\n",
       "   month  day  \n",
       "0      1    1  \n",
       "1      1    1  \n",
       "2      1    1  \n",
       "3      1    1  \n",
       "4      1    1  "
      ]
     },
     "execution_count": 37,
     "metadata": {},
     "output_type": "execute_result"
    }
   ],
   "source": [
    "weather.drop(labels='visibility', axis=1, inplace=True)\n",
    "weather.head()"
   ]
  },
  {
   "cell_type": "markdown",
   "metadata": {},
   "source": [
    "Now let remove the units out of the table."
   ]
  },
  {
   "cell_type": "code",
   "execution_count": 38,
   "metadata": {},
   "outputs": [],
   "source": [
    "def clean_wind(obj):\n",
    "    if isinstance(obj, str):\n",
    "        if obj == 'No wind':\n",
    "            obj = 0\n",
    "        else:\n",
    "            obj = obj.replace(' km/h','')\n",
    "    return obj\n",
    "\n",
    "def clean_temp(obj):\n",
    "    if isinstance(obj, str):\n",
    "        obj = obj.replace('\\xa0°C','')\n",
    "    return obj\n",
    "    \n",
    "def clean_humidity(obj):\n",
    "    if isinstance(obj, str):\n",
    "        obj = obj.replace('%', '')\n",
    "    return obj\n",
    "\n",
    "def clean_barometer(obj):\n",
    "    if isinstance(obj, str):\n",
    "        obj = obj.replace(' mbar', '')\n",
    "    return obj"
   ]
  },
  {
   "cell_type": "code",
   "execution_count": 39,
   "metadata": {},
   "outputs": [],
   "source": [
    "def trans_data(table):\n",
    "    table['temp'] = (table['temp'].apply(clean_temp)).astype(float)    \n",
    "    table['wind'] = (table['wind'].apply(clean_wind)).astype(float)\n",
    "    table['humidity'] = (table['humidity'].apply(clean_humidity)).astype(float)\n",
    "    table['barometer'] = (table['barometer'].apply(clean_barometer)).astype(float)\n",
    "    return table"
   ]
  },
  {
   "cell_type": "code",
   "execution_count": 40,
   "metadata": {},
   "outputs": [
    {
     "data": {
      "text/html": [
       "<div>\n",
       "<style scoped>\n",
       "    .dataframe tbody tr th:only-of-type {\n",
       "        vertical-align: middle;\n",
       "    }\n",
       "\n",
       "    .dataframe tbody tr th {\n",
       "        vertical-align: top;\n",
       "    }\n",
       "\n",
       "    .dataframe thead th {\n",
       "        text-align: right;\n",
       "    }\n",
       "</style>\n",
       "<table border=\"1\" class=\"dataframe\">\n",
       "  <thead>\n",
       "    <tr style=\"text-align: right;\">\n",
       "      <th></th>\n",
       "      <th>clock</th>\n",
       "      <th>temp</th>\n",
       "      <th>weather</th>\n",
       "      <th>wind</th>\n",
       "      <th>humidity</th>\n",
       "      <th>barometer</th>\n",
       "      <th>year</th>\n",
       "      <th>month</th>\n",
       "      <th>day</th>\n",
       "    </tr>\n",
       "  </thead>\n",
       "  <tbody>\n",
       "    <tr>\n",
       "      <th>0</th>\n",
       "      <td>00:20</td>\n",
       "      <td>11.0</td>\n",
       "      <td>Mostly cloudy.</td>\n",
       "      <td>17.0</td>\n",
       "      <td>94.0</td>\n",
       "      <td>1011.0</td>\n",
       "      <td>2012</td>\n",
       "      <td>1</td>\n",
       "      <td>1</td>\n",
       "    </tr>\n",
       "    <tr>\n",
       "      <th>1</th>\n",
       "      <td>00:50</td>\n",
       "      <td>12.0</td>\n",
       "      <td>Mostly cloudy.</td>\n",
       "      <td>17.0</td>\n",
       "      <td>88.0</td>\n",
       "      <td>1011.0</td>\n",
       "      <td>2012</td>\n",
       "      <td>1</td>\n",
       "      <td>1</td>\n",
       "    </tr>\n",
       "    <tr>\n",
       "      <th>2</th>\n",
       "      <td>01:50</td>\n",
       "      <td>12.0</td>\n",
       "      <td>Overcast.</td>\n",
       "      <td>19.0</td>\n",
       "      <td>88.0</td>\n",
       "      <td>1011.0</td>\n",
       "      <td>2012</td>\n",
       "      <td>1</td>\n",
       "      <td>1</td>\n",
       "    </tr>\n",
       "    <tr>\n",
       "      <th>3</th>\n",
       "      <td>02:20</td>\n",
       "      <td>12.0</td>\n",
       "      <td>Partly cloudy.</td>\n",
       "      <td>17.0</td>\n",
       "      <td>88.0</td>\n",
       "      <td>1010.0</td>\n",
       "      <td>2012</td>\n",
       "      <td>1</td>\n",
       "      <td>1</td>\n",
       "    </tr>\n",
       "    <tr>\n",
       "      <th>4</th>\n",
       "      <td>02:50</td>\n",
       "      <td>12.0</td>\n",
       "      <td>Sprinkles. Mostly cloudy.</td>\n",
       "      <td>15.0</td>\n",
       "      <td>88.0</td>\n",
       "      <td>1010.0</td>\n",
       "      <td>2012</td>\n",
       "      <td>1</td>\n",
       "      <td>1</td>\n",
       "    </tr>\n",
       "  </tbody>\n",
       "</table>\n",
       "</div>"
      ],
      "text/plain": [
       "   clock  temp                    weather  wind  humidity  barometer  year  \\\n",
       "0  00:20  11.0             Mostly cloudy.  17.0      94.0     1011.0  2012   \n",
       "1  00:50  12.0             Mostly cloudy.  17.0      88.0     1011.0  2012   \n",
       "2  01:50  12.0                  Overcast.  19.0      88.0     1011.0  2012   \n",
       "3  02:20  12.0             Partly cloudy.  17.0      88.0     1010.0  2012   \n",
       "4  02:50  12.0  Sprinkles. Mostly cloudy.  15.0      88.0     1010.0  2012   \n",
       "\n",
       "   month  day  \n",
       "0      1    1  \n",
       "1      1    1  \n",
       "2      1    1  \n",
       "3      1    1  \n",
       "4      1    1  "
      ]
     },
     "execution_count": 40,
     "metadata": {},
     "output_type": "execute_result"
    }
   ],
   "source": [
    "weather_tran = trans_data(weather)\n",
    "weather_tran.head()"
   ]
  },
  {
   "cell_type": "code",
   "execution_count": 41,
   "metadata": {},
   "outputs": [
    {
     "name": "stdout",
     "output_type": "stream",
     "text": [
      "<class 'pandas.core.frame.DataFrame'>\n",
      "RangeIndex: 133669 entries, 0 to 133668\n",
      "Data columns (total 9 columns):\n",
      " #   Column     Non-Null Count   Dtype  \n",
      "---  ------     --------------   -----  \n",
      " 0   clock      133669 non-null  object \n",
      " 1   temp       133650 non-null  float64\n",
      " 2   weather    133666 non-null  object \n",
      " 3   wind       133623 non-null  float64\n",
      " 4   humidity   133321 non-null  float64\n",
      " 5   barometer  133655 non-null  float64\n",
      " 6   year       133669 non-null  int64  \n",
      " 7   month      133669 non-null  int64  \n",
      " 8   day        133669 non-null  int64  \n",
      "dtypes: float64(4), int64(3), object(2)\n",
      "memory usage: 9.2+ MB\n"
     ]
    }
   ],
   "source": [
    "weather_tran.info()"
   ]
  },
  {
   "cell_type": "code",
   "execution_count": 42,
   "metadata": {},
   "outputs": [
    {
     "data": {
      "text/html": [
       "<div>\n",
       "<style scoped>\n",
       "    .dataframe tbody tr th:only-of-type {\n",
       "        vertical-align: middle;\n",
       "    }\n",
       "\n",
       "    .dataframe tbody tr th {\n",
       "        vertical-align: top;\n",
       "    }\n",
       "\n",
       "    .dataframe thead th {\n",
       "        text-align: right;\n",
       "    }\n",
       "</style>\n",
       "<table border=\"1\" class=\"dataframe\">\n",
       "  <thead>\n",
       "    <tr style=\"text-align: right;\">\n",
       "      <th></th>\n",
       "      <th>temp</th>\n",
       "      <th>weather</th>\n",
       "      <th>wind</th>\n",
       "      <th>humidity</th>\n",
       "      <th>barometer</th>\n",
       "      <th>date</th>\n",
       "    </tr>\n",
       "  </thead>\n",
       "  <tbody>\n",
       "    <tr>\n",
       "      <th>0</th>\n",
       "      <td>11.0</td>\n",
       "      <td>Mostly cloudy.</td>\n",
       "      <td>17.0</td>\n",
       "      <td>94.0</td>\n",
       "      <td>1011.0</td>\n",
       "      <td>2012-01-01 00:20:00</td>\n",
       "    </tr>\n",
       "    <tr>\n",
       "      <th>1</th>\n",
       "      <td>12.0</td>\n",
       "      <td>Mostly cloudy.</td>\n",
       "      <td>17.0</td>\n",
       "      <td>88.0</td>\n",
       "      <td>1011.0</td>\n",
       "      <td>2012-01-01 00:50:00</td>\n",
       "    </tr>\n",
       "    <tr>\n",
       "      <th>2</th>\n",
       "      <td>12.0</td>\n",
       "      <td>Overcast.</td>\n",
       "      <td>19.0</td>\n",
       "      <td>88.0</td>\n",
       "      <td>1011.0</td>\n",
       "      <td>2012-01-01 01:50:00</td>\n",
       "    </tr>\n",
       "    <tr>\n",
       "      <th>3</th>\n",
       "      <td>12.0</td>\n",
       "      <td>Partly cloudy.</td>\n",
       "      <td>17.0</td>\n",
       "      <td>88.0</td>\n",
       "      <td>1010.0</td>\n",
       "      <td>2012-01-01 02:20:00</td>\n",
       "    </tr>\n",
       "    <tr>\n",
       "      <th>4</th>\n",
       "      <td>12.0</td>\n",
       "      <td>Sprinkles. Mostly cloudy.</td>\n",
       "      <td>15.0</td>\n",
       "      <td>88.0</td>\n",
       "      <td>1010.0</td>\n",
       "      <td>2012-01-01 02:50:00</td>\n",
       "    </tr>\n",
       "  </tbody>\n",
       "</table>\n",
       "</div>"
      ],
      "text/plain": [
       "   temp                    weather  wind  humidity  barometer  \\\n",
       "0  11.0             Mostly cloudy.  17.0      94.0     1011.0   \n",
       "1  12.0             Mostly cloudy.  17.0      88.0     1011.0   \n",
       "2  12.0                  Overcast.  19.0      88.0     1011.0   \n",
       "3  12.0             Partly cloudy.  17.0      88.0     1010.0   \n",
       "4  12.0  Sprinkles. Mostly cloudy.  15.0      88.0     1010.0   \n",
       "\n",
       "                 date  \n",
       "0 2012-01-01 00:20:00  \n",
       "1 2012-01-01 00:50:00  \n",
       "2 2012-01-01 01:50:00  \n",
       "3 2012-01-01 02:20:00  \n",
       "4 2012-01-01 02:50:00  "
      ]
     },
     "execution_count": 42,
     "metadata": {},
     "output_type": "execute_result"
    }
   ],
   "source": [
    "#Form the date column \n",
    "def create_date(table):    \n",
    "    table['date'] = table.apply(lambda row:\n",
    "                                    f'{row.year}-{row.month}-{row.day} {row.clock}', axis=1)\n",
    "    table.date = pd.to_datetime(table.date)\n",
    "    return table.drop(['clock', 'year', 'month', 'day'], axis = 1)\n",
    "\n",
    "weather_tran = create_date(weather_tran)\n",
    "weather_tran.head()"
   ]
  },
  {
   "cell_type": "code",
   "execution_count": 43,
   "metadata": {},
   "outputs": [
    {
     "data": {
      "text/plain": [
       "temp          19\n",
       "weather        3\n",
       "wind          46\n",
       "humidity     348\n",
       "barometer     14\n",
       "date           0\n",
       "dtype: int64"
      ]
     },
     "execution_count": 43,
     "metadata": {},
     "output_type": "execute_result"
    }
   ],
   "source": [
    "weather_tran.isna().sum()"
   ]
  },
  {
   "cell_type": "markdown",
   "metadata": {},
   "source": [
    "Let's try to replace the missing numerical value (temp/wind/humidity) with the mean of the value right before and right after it."
   ]
  },
  {
   "cell_type": "code",
   "execution_count": 44,
   "metadata": {},
   "outputs": [
    {
     "data": {
      "text/plain": [
       "temp           0\n",
       "weather        3\n",
       "wind          46\n",
       "humidity     348\n",
       "barometer     14\n",
       "date           0\n",
       "dtype: int64"
      ]
     },
     "execution_count": 44,
     "metadata": {},
     "output_type": "execute_result"
    }
   ],
   "source": [
    "for i in range(len(weather_tran)):\n",
    "    if str(weather_tran.loc[i, 'temp']) == 'nan':\n",
    "        n = 1\n",
    "        while str(weather_tran.loc[i-n, 'temp']) == 'nan':\n",
    "            n = n + 1\n",
    "        m = 1\n",
    "        while str(weather_tran.loc[i+m, 'temp']) == 'nan':\n",
    "            m = m + 1\n",
    "        weather_tran.loc[i, 'temp'] = (weather_tran.loc[i-n, 'temp'] + weather_tran.loc[i+m, 'temp'])/2\n",
    "\n",
    "weather_tran.isna().sum()  "
   ]
  },
  {
   "cell_type": "code",
   "execution_count": 46,
   "metadata": {},
   "outputs": [
    {
     "data": {
      "text/plain": [
       "temp           0\n",
       "weather        3\n",
       "wind           0\n",
       "humidity     348\n",
       "barometer     14\n",
       "date           0\n",
       "dtype: int64"
      ]
     },
     "execution_count": 46,
     "metadata": {},
     "output_type": "execute_result"
    }
   ],
   "source": [
    "for i in range(len(weather_tran)):\n",
    "    if str(weather_tran.loc[i, 'wind']) == 'nan':\n",
    "        n = 1\n",
    "        while str(weather_tran.loc[i-n, 'wind']) == 'nan':\n",
    "            n = n + 1\n",
    "        m = 1\n",
    "        while str(weather_tran.loc[i+m, 'wind']) == 'nan':\n",
    "            m = m + 1\n",
    "        weather_tran.loc[i, 'wind'] = (weather_tran.loc[i-n, 'wind'] + weather_tran.loc[i+m, 'wind'])/2\n",
    "\n",
    "weather_tran.isna().sum() "
   ]
  },
  {
   "cell_type": "code",
   "execution_count": 47,
   "metadata": {},
   "outputs": [
    {
     "data": {
      "text/plain": [
       "temp          0\n",
       "weather       3\n",
       "wind          0\n",
       "humidity      0\n",
       "barometer    14\n",
       "date          0\n",
       "dtype: int64"
      ]
     },
     "execution_count": 47,
     "metadata": {},
     "output_type": "execute_result"
    }
   ],
   "source": [
    "for i in range(len(weather_tran)):\n",
    "    if str(weather_tran.loc[i, 'humidity']) == 'nan':\n",
    "        n = 1\n",
    "        while str(weather_tran.loc[i-n, 'humidity']) == 'nan':\n",
    "            n = n + 1\n",
    "        m = 1\n",
    "        while str(weather_tran.loc[i+m, 'humidity']) == 'nan':\n",
    "            m = m + 1\n",
    "        weather_tran.loc[i, 'humidity'] = (weather_tran.loc[i-n, 'humidity'] + weather_tran.loc[i+m, 'humidity'])/2\n",
    "\n",
    "weather_tran.isna().sum() "
   ]
  },
  {
   "cell_type": "code",
   "execution_count": 48,
   "metadata": {},
   "outputs": [
    {
     "data": {
      "text/plain": [
       "temp         0\n",
       "weather      3\n",
       "wind         0\n",
       "humidity     0\n",
       "barometer    0\n",
       "date         0\n",
       "dtype: int64"
      ]
     },
     "execution_count": 48,
     "metadata": {},
     "output_type": "execute_result"
    }
   ],
   "source": [
    "for i in range(len(weather_tran)):\n",
    "    if str(weather_tran.loc[i, 'barometer']) == 'nan':\n",
    "        n = 1\n",
    "        while str(weather_tran.loc[i-n, 'barometer']) == 'nan':\n",
    "            n = n + 1\n",
    "        m = 1\n",
    "        while str(weather_tran.loc[i+m, 'barometer']) == 'nan':\n",
    "            m = m + 1\n",
    "        weather_tran.loc[i, 'barometer'] = (weather_tran.loc[i-n, 'barometer'] + weather_tran.loc[i+m, 'barometer'])/2\n",
    "\n",
    "weather_tran.isna().sum() "
   ]
  },
  {
   "cell_type": "markdown",
   "metadata": {},
   "source": [
    "Here we have a decent dataset. However, the data of energy usage that we will use later were collected once per day. Therefore here we will calculate the everage of temp, wind, humidity, barometer of each day. The weather status cannot be used to calculate the everage. Therefore, we will take the status of the most powerful hour (15:20), according to the author of this dataset."
   ]
  },
  {
   "cell_type": "code",
   "execution_count": 49,
   "metadata": {},
   "outputs": [],
   "source": [
    "import datetime \n",
    "def take_average_weather(weather):\n",
    "    average_weather = pd.DataFrame(columns = ['temp', 'weather', 'wind', 'humidity', 'barometer',\n",
    "                                              'date'])\n",
    "\n",
    "    temp, wind, humidity, barometer, counter = [0]*5\n",
    "    for i in range(len(weather)):\n",
    "        if (weather.loc[i, 'date'].time() == datetime.time(0, 20)) and (i!=0):\n",
    "            average_weather = average_weather.append({\n",
    "                'temp':temp/counter,\n",
    "                'wind':wind/counter,\n",
    "                'humidity':humidity/counter,\n",
    "                'barometer':barometer/counter,\n",
    "                'date':pd.to_datetime(weather.loc[i-1, 'date'].date()),\n",
    "                'weather':weath\n",
    "            }, ignore_index=True)\n",
    "            temp, wind, humidity, barometer, counter= [0]*5\n",
    "            \n",
    "        if (weather.loc[i, 'date'].time() == datetime.time(15,20)):\n",
    "            weath = weather.loc[i, 'weather']\n",
    "        counter += 1\n",
    "        temp += weather.loc[i, 'temp']\n",
    "        wind += weather.loc[i, 'wind']\n",
    "        humidity += weather.loc[i, 'humidity']\n",
    "        barometer += weather.loc[i, 'barometer']\n",
    "        \n",
    "    return average_weather\n",
    "\n",
    "average_weather = take_average_weather(weather_tran)"
   ]
  },
  {
   "cell_type": "code",
   "execution_count": 50,
   "metadata": {},
   "outputs": [
    {
     "data": {
      "text/html": [
       "<div>\n",
       "<style scoped>\n",
       "    .dataframe tbody tr th:only-of-type {\n",
       "        vertical-align: middle;\n",
       "    }\n",
       "\n",
       "    .dataframe tbody tr th {\n",
       "        vertical-align: top;\n",
       "    }\n",
       "\n",
       "    .dataframe thead th {\n",
       "        text-align: right;\n",
       "    }\n",
       "</style>\n",
       "<table border=\"1\" class=\"dataframe\">\n",
       "  <thead>\n",
       "    <tr style=\"text-align: right;\">\n",
       "      <th></th>\n",
       "      <th>temp</th>\n",
       "      <th>weather</th>\n",
       "      <th>wind</th>\n",
       "      <th>humidity</th>\n",
       "      <th>barometer</th>\n",
       "      <th>date</th>\n",
       "    </tr>\n",
       "  </thead>\n",
       "  <tbody>\n",
       "    <tr>\n",
       "      <th>0</th>\n",
       "      <td>12.333333</td>\n",
       "      <td>Overcast.</td>\n",
       "      <td>21.333333</td>\n",
       "      <td>89.333333</td>\n",
       "      <td>1007.866667</td>\n",
       "      <td>2012-01-01</td>\n",
       "    </tr>\n",
       "    <tr>\n",
       "      <th>1</th>\n",
       "      <td>7.787234</td>\n",
       "      <td>Scattered clouds.</td>\n",
       "      <td>17.212766</td>\n",
       "      <td>81.425532</td>\n",
       "      <td>1009.170213</td>\n",
       "      <td>2012-01-02</td>\n",
       "    </tr>\n",
       "    <tr>\n",
       "      <th>2</th>\n",
       "      <td>8.208333</td>\n",
       "      <td>Light rain. Fog.</td>\n",
       "      <td>32.354167</td>\n",
       "      <td>78.229167</td>\n",
       "      <td>1007.916667</td>\n",
       "      <td>2012-01-03</td>\n",
       "    </tr>\n",
       "    <tr>\n",
       "      <th>3</th>\n",
       "      <td>7.354167</td>\n",
       "      <td>Broken clouds.</td>\n",
       "      <td>26.375000</td>\n",
       "      <td>71.041667</td>\n",
       "      <td>1012.687500</td>\n",
       "      <td>2012-01-04</td>\n",
       "    </tr>\n",
       "    <tr>\n",
       "      <th>4</th>\n",
       "      <td>8.292683</td>\n",
       "      <td>Rain showers. Broken clouds.</td>\n",
       "      <td>39.170732</td>\n",
       "      <td>77.804878</td>\n",
       "      <td>998.219512</td>\n",
       "      <td>2012-01-05</td>\n",
       "    </tr>\n",
       "  </tbody>\n",
       "</table>\n",
       "</div>"
      ],
      "text/plain": [
       "        temp                       weather       wind   humidity    barometer  \\\n",
       "0  12.333333                     Overcast.  21.333333  89.333333  1007.866667   \n",
       "1   7.787234             Scattered clouds.  17.212766  81.425532  1009.170213   \n",
       "2   8.208333              Light rain. Fog.  32.354167  78.229167  1007.916667   \n",
       "3   7.354167                Broken clouds.  26.375000  71.041667  1012.687500   \n",
       "4   8.292683  Rain showers. Broken clouds.  39.170732  77.804878   998.219512   \n",
       "\n",
       "        date  \n",
       "0 2012-01-01  \n",
       "1 2012-01-02  \n",
       "2 2012-01-03  \n",
       "3 2012-01-04  \n",
       "4 2012-01-05  "
      ]
     },
     "execution_count": 50,
     "metadata": {},
     "output_type": "execute_result"
    }
   ],
   "source": [
    "average_weather.head()"
   ]
  },
  {
   "cell_type": "markdown",
   "metadata": {},
   "source": [
    "As shown in the table, weather may sometimes include 2 part: rain/snow and status of cloud. The author of this dataset decided to completely remove the raining/snowing weather and keep only the status of cloud. However, I think it is better to keep the raining/snowing weather by moving them to a new column. If the rain does not have any impact on the performance of solar panels, the coefficient for this column will be low."
   ]
  },
  {
   "cell_type": "code",
   "execution_count": 51,
   "metadata": {},
   "outputs": [],
   "source": [
    "def seperate_weather(weather):\n",
    "    # Create a list to temporary rain status\n",
    "    rain_list = ['No rain']*len(weather)\n",
    "\n",
    "    for i in range(len(weather)):\n",
    "        weather_list = weather.loc[i, 'weather'].split('.')\n",
    "        \n",
    "        # The weather always ends with a '.'\n",
    "        # Hence, a single weather status will return a 2-member list\n",
    "        if len(weather_list) > 2:\n",
    "            rain_list[i] = weather_list[0].strip()\n",
    "            weather.loc[i, 'weather'] = weather_list[1].strip()\n",
    "        elif len(weather_list) == 2:\n",
    "            weather.loc[i, 'weather'] = weather_list[0].strip()\n",
    "    \n",
    "    # Add the rain column next to the weather column\n",
    "    weather.insert(2, \"rain\", rain_list, True)\n",
    "    \n",
    "    # Rename the weather column to 'cloud'\n",
    "    weather.rename(columns = {'weather':'cloud'}, inplace = True)"
   ]
  },
  {
   "cell_type": "code",
   "execution_count": 52,
   "metadata": {},
   "outputs": [
    {
     "data": {
      "text/html": [
       "<div>\n",
       "<style scoped>\n",
       "    .dataframe tbody tr th:only-of-type {\n",
       "        vertical-align: middle;\n",
       "    }\n",
       "\n",
       "    .dataframe tbody tr th {\n",
       "        vertical-align: top;\n",
       "    }\n",
       "\n",
       "    .dataframe thead th {\n",
       "        text-align: right;\n",
       "    }\n",
       "</style>\n",
       "<table border=\"1\" class=\"dataframe\">\n",
       "  <thead>\n",
       "    <tr style=\"text-align: right;\">\n",
       "      <th></th>\n",
       "      <th>temp</th>\n",
       "      <th>cloud</th>\n",
       "      <th>rain</th>\n",
       "      <th>wind</th>\n",
       "      <th>humidity</th>\n",
       "      <th>barometer</th>\n",
       "      <th>date</th>\n",
       "    </tr>\n",
       "  </thead>\n",
       "  <tbody>\n",
       "    <tr>\n",
       "      <th>0</th>\n",
       "      <td>12.333333</td>\n",
       "      <td>Overcast</td>\n",
       "      <td>No rain</td>\n",
       "      <td>21.333333</td>\n",
       "      <td>89.333333</td>\n",
       "      <td>1007.866667</td>\n",
       "      <td>2012-01-01</td>\n",
       "    </tr>\n",
       "    <tr>\n",
       "      <th>1</th>\n",
       "      <td>7.787234</td>\n",
       "      <td>Scattered clouds</td>\n",
       "      <td>No rain</td>\n",
       "      <td>17.212766</td>\n",
       "      <td>81.425532</td>\n",
       "      <td>1009.170213</td>\n",
       "      <td>2012-01-02</td>\n",
       "    </tr>\n",
       "    <tr>\n",
       "      <th>2</th>\n",
       "      <td>8.208333</td>\n",
       "      <td>Fog</td>\n",
       "      <td>Light rain</td>\n",
       "      <td>32.354167</td>\n",
       "      <td>78.229167</td>\n",
       "      <td>1007.916667</td>\n",
       "      <td>2012-01-03</td>\n",
       "    </tr>\n",
       "    <tr>\n",
       "      <th>3</th>\n",
       "      <td>7.354167</td>\n",
       "      <td>Broken clouds</td>\n",
       "      <td>No rain</td>\n",
       "      <td>26.375000</td>\n",
       "      <td>71.041667</td>\n",
       "      <td>1012.687500</td>\n",
       "      <td>2012-01-04</td>\n",
       "    </tr>\n",
       "    <tr>\n",
       "      <th>4</th>\n",
       "      <td>8.292683</td>\n",
       "      <td>Broken clouds</td>\n",
       "      <td>Rain showers</td>\n",
       "      <td>39.170732</td>\n",
       "      <td>77.804878</td>\n",
       "      <td>998.219512</td>\n",
       "      <td>2012-01-05</td>\n",
       "    </tr>\n",
       "  </tbody>\n",
       "</table>\n",
       "</div>"
      ],
      "text/plain": [
       "        temp             cloud          rain       wind   humidity  \\\n",
       "0  12.333333          Overcast       No rain  21.333333  89.333333   \n",
       "1   7.787234  Scattered clouds       No rain  17.212766  81.425532   \n",
       "2   8.208333               Fog    Light rain  32.354167  78.229167   \n",
       "3   7.354167     Broken clouds       No rain  26.375000  71.041667   \n",
       "4   8.292683     Broken clouds  Rain showers  39.170732  77.804878   \n",
       "\n",
       "     barometer       date  \n",
       "0  1007.866667 2012-01-01  \n",
       "1  1009.170213 2012-01-02  \n",
       "2  1007.916667 2012-01-03  \n",
       "3  1012.687500 2012-01-04  \n",
       "4   998.219512 2012-01-05  "
      ]
     },
     "execution_count": 52,
     "metadata": {},
     "output_type": "execute_result"
    }
   ],
   "source": [
    "seperate_weather(average_weather)\n",
    "average_weather.head()"
   ]
  },
  {
   "cell_type": "code",
   "execution_count": 53,
   "metadata": {},
   "outputs": [
    {
     "name": "stderr",
     "output_type": "stream",
     "text": [
      "/home/nhat/.local/lib/python3.6/site-packages/seaborn/_decorators.py:43: FutureWarning: Pass the following variables as keyword args: x, y. From version 0.12, the only valid positional argument will be `data`, and passing other arguments without an explicit keyword will result in an error or misinterpretation.\n",
      "  FutureWarning\n"
     ]
    },
    {
     "data": {
      "image/png": "[encoded data removed]",
      "text/plain": [
       "<Figure size 1152x360 with 1 Axes>"
      ]
     },
     "metadata": {
      "needs_background": "light"
     },
     "output_type": "display_data"
    }
   ],
   "source": [
    "import seaborn as sns\n",
    "weather_counts = average_weather['cloud'].value_counts()\n",
    "plt.figure(figsize=(16,5))\n",
    "sns.barplot(weather_counts.index, weather_counts.values, alpha=0.8)\n",
    "plt.xticks(rotation=90)\n",
    "plt.title('Cloud Status')\n",
    "plt.xlabel('Status')\n",
    "plt.ylabel('Number Of Repetition')\n",
    "plt.show()"
   ]
  },
  {
   "cell_type": "code",
   "execution_count": 54,
   "metadata": {},
   "outputs": [
    {
     "name": "stderr",
     "output_type": "stream",
     "text": [
      "/home/nhat/.local/lib/python3.6/site-packages/seaborn/_decorators.py:43: FutureWarning: Pass the following variables as keyword args: x, y. From version 0.12, the only valid positional argument will be `data`, and passing other arguments without an explicit keyword will result in an error or misinterpretation.\n",
      "  FutureWarning\n"
     ]
    },
    {
     "data": {
      "image/png": "[encoded data removed]",
      "text/plain": [
       "<Figure size 1152x360 with 1 Axes>"
      ]
     },
     "metadata": {
      "needs_background": "light"
     },
     "output_type": "display_data"
    }
   ],
   "source": [
    "rain_counts = average_weather['rain'].value_counts()\n",
    "plt.figure(figsize=(16,5))\n",
    "sns.barplot(rain_counts.index, rain_counts.values, alpha=0.8)\n",
    "plt.xticks(rotation=90)\n",
    "plt.title('Rain Status')\n",
    "plt.xlabel('Status')\n",
    "plt.ylabel('Number Of Repetition')\n",
    "plt.show()"
   ]
  },
  {
   "cell_type": "code",
   "execution_count": 55,
   "metadata": {},
   "outputs": [
    {
     "data": {
      "image/png": "[encoded data removed]",
      "text/plain": [
       "<Figure size 1152x864 with 4 Axes>"
      ]
     },
     "metadata": {
      "needs_background": "light"
     },
     "output_type": "display_data"
    }
   ],
   "source": [
    "average_weather.hist(figsize=(16,12))\n",
    "plt.show()"
   ]
  },
  {
   "cell_type": "markdown",
   "metadata": {},
   "source": [
    "At this step, the weather dataset is ready to be used. In fact, the NaN values are still there, but the way in which they are treated will affect the outcome of the model. Therefore, it is better to deal with them later, during the training step."
   ]
  },
  {
   "cell_type": "code",
   "execution_count": 56,
   "metadata": {},
   "outputs": [],
   "source": [
    "energy = pd.read_csv(path/'PV_Elec_Gas3.csv', delimiter=',', engine='python',\n",
    "                     header=0)"
   ]
  },
  {
   "cell_type": "code",
   "execution_count": 57,
   "metadata": {},
   "outputs": [
    {
     "data": {
      "text/html": [
       "<div>\n",
       "<style scoped>\n",
       "    .dataframe tbody tr th:only-of-type {\n",
       "        vertical-align: middle;\n",
       "    }\n",
       "\n",
       "    .dataframe tbody tr th {\n",
       "        vertical-align: top;\n",
       "    }\n",
       "\n",
       "    .dataframe thead th {\n",
       "        text-align: right;\n",
       "    }\n",
       "</style>\n",
       "<table border=\"1\" class=\"dataframe\">\n",
       "  <thead>\n",
       "    <tr style=\"text-align: right;\">\n",
       "      <th></th>\n",
       "      <th>date</th>\n",
       "      <th>Cumulative_solar_power</th>\n",
       "      <th>kWh electricity/day</th>\n",
       "      <th>Gas/day</th>\n",
       "    </tr>\n",
       "  </thead>\n",
       "  <tbody>\n",
       "    <tr>\n",
       "      <th>0</th>\n",
       "      <td>26/10/2011</td>\n",
       "      <td>0.1</td>\n",
       "      <td>15.1</td>\n",
       "      <td>9.0</td>\n",
       "    </tr>\n",
       "    <tr>\n",
       "      <th>1</th>\n",
       "      <td>27/10/2011</td>\n",
       "      <td>10.2</td>\n",
       "      <td>7.4</td>\n",
       "      <td>9.2</td>\n",
       "    </tr>\n",
       "    <tr>\n",
       "      <th>2</th>\n",
       "      <td>28/10/2011</td>\n",
       "      <td>20.2</td>\n",
       "      <td>5.8</td>\n",
       "      <td>8.0</td>\n",
       "    </tr>\n",
       "    <tr>\n",
       "      <th>3</th>\n",
       "      <td>29/10/2011</td>\n",
       "      <td>29.6</td>\n",
       "      <td>4.9</td>\n",
       "      <td>6.6</td>\n",
       "    </tr>\n",
       "    <tr>\n",
       "      <th>4</th>\n",
       "      <td>30/10/2011</td>\n",
       "      <td>34.2</td>\n",
       "      <td>11.7</td>\n",
       "      <td>5.3</td>\n",
       "    </tr>\n",
       "  </tbody>\n",
       "</table>\n",
       "</div>"
      ],
      "text/plain": [
       "         date  Cumulative_solar_power  kWh electricity/day  Gas/day\n",
       "0  26/10/2011                     0.1                 15.1      9.0\n",
       "1  27/10/2011                    10.2                  7.4      9.2\n",
       "2  28/10/2011                    20.2                  5.8      8.0\n",
       "3  29/10/2011                    29.6                  4.9      6.6\n",
       "4  30/10/2011                    34.2                 11.7      5.3"
      ]
     },
     "execution_count": 57,
     "metadata": {},
     "output_type": "execute_result"
    }
   ],
   "source": [
    "energy.head()"
   ]
  },
  {
   "cell_type": "code",
   "execution_count": 58,
   "metadata": {},
   "outputs": [
    {
     "name": "stdout",
     "output_type": "stream",
     "text": [
      "<class 'pandas.core.frame.DataFrame'>\n",
      "RangeIndex: 3304 entries, 0 to 3303\n",
      "Data columns (total 4 columns):\n",
      " #   Column                  Non-Null Count  Dtype  \n",
      "---  ------                  --------------  -----  \n",
      " 0   date                    3304 non-null   object \n",
      " 1   Cumulative_solar_power  3304 non-null   float64\n",
      " 2   kWh electricity/day     3304 non-null   float64\n",
      " 3   Gas/day                 3304 non-null   float64\n",
      "dtypes: float64(3), object(1)\n",
      "memory usage: 103.4+ KB\n"
     ]
    }
   ],
   "source": [
    "energy.info()"
   ]
  },
  {
   "cell_type": "markdown",
   "metadata": {},
   "source": [
    "The first thing that we can see is that data has the object type. Pandas provide a date type:"
   ]
  },
  {
   "cell_type": "code",
   "execution_count": 59,
   "metadata": {},
   "outputs": [
    {
     "name": "stdout",
     "output_type": "stream",
     "text": [
      "<class 'pandas.core.frame.DataFrame'>\n",
      "RangeIndex: 2731 entries, 0 to 2730\n",
      "Data columns (total 7 columns):\n",
      " #   Column     Non-Null Count  Dtype         \n",
      "---  ------     --------------  -----         \n",
      " 0   temp       2731 non-null   float64       \n",
      " 1   cloud      2731 non-null   object        \n",
      " 2   rain       2731 non-null   object        \n",
      " 3   wind       2731 non-null   float64       \n",
      " 4   humidity   2731 non-null   float64       \n",
      " 5   barometer  2731 non-null   float64       \n",
      " 6   date       2731 non-null   datetime64[ns]\n",
      "dtypes: datetime64[ns](1), float64(4), object(2)\n",
      "memory usage: 149.5+ KB\n"
     ]
    }
   ],
   "source": [
    "average_weather.info()"
   ]
  },
  {
   "cell_type": "markdown",
   "metadata": {},
   "source": [
    "So the first step is to convert the type of data column"
   ]
  },
  {
   "cell_type": "code",
   "execution_count": 60,
   "metadata": {},
   "outputs": [
    {
     "data": {
      "text/html": [
       "<div>\n",
       "<style scoped>\n",
       "    .dataframe tbody tr th:only-of-type {\n",
       "        vertical-align: middle;\n",
       "    }\n",
       "\n",
       "    .dataframe tbody tr th {\n",
       "        vertical-align: top;\n",
       "    }\n",
       "\n",
       "    .dataframe thead th {\n",
       "        text-align: right;\n",
       "    }\n",
       "</style>\n",
       "<table border=\"1\" class=\"dataframe\">\n",
       "  <thead>\n",
       "    <tr style=\"text-align: right;\">\n",
       "      <th></th>\n",
       "      <th>Cumulative_solar_power</th>\n",
       "      <th>kWh electricity/day</th>\n",
       "      <th>Gas/day</th>\n",
       "    </tr>\n",
       "    <tr>\n",
       "      <th>date</th>\n",
       "      <th></th>\n",
       "      <th></th>\n",
       "      <th></th>\n",
       "    </tr>\n",
       "  </thead>\n",
       "  <tbody>\n",
       "    <tr>\n",
       "      <th>2011-10-26</th>\n",
       "      <td>0.1</td>\n",
       "      <td>15.1</td>\n",
       "      <td>9.0</td>\n",
       "    </tr>\n",
       "    <tr>\n",
       "      <th>2011-10-27</th>\n",
       "      <td>10.2</td>\n",
       "      <td>7.4</td>\n",
       "      <td>9.2</td>\n",
       "    </tr>\n",
       "    <tr>\n",
       "      <th>2011-10-28</th>\n",
       "      <td>20.2</td>\n",
       "      <td>5.8</td>\n",
       "      <td>8.0</td>\n",
       "    </tr>\n",
       "    <tr>\n",
       "      <th>2011-10-29</th>\n",
       "      <td>29.6</td>\n",
       "      <td>4.9</td>\n",
       "      <td>6.6</td>\n",
       "    </tr>\n",
       "    <tr>\n",
       "      <th>2011-10-30</th>\n",
       "      <td>34.2</td>\n",
       "      <td>11.7</td>\n",
       "      <td>5.3</td>\n",
       "    </tr>\n",
       "  </tbody>\n",
       "</table>\n",
       "</div>"
      ],
      "text/plain": [
       "            Cumulative_solar_power  kWh electricity/day  Gas/day\n",
       "date                                                            \n",
       "2011-10-26                     0.1                 15.1      9.0\n",
       "2011-10-27                    10.2                  7.4      9.2\n",
       "2011-10-28                    20.2                  5.8      8.0\n",
       "2011-10-29                    29.6                  4.9      6.6\n",
       "2011-10-30                    34.2                 11.7      5.3"
      ]
     },
     "execution_count": 60,
     "metadata": {},
     "output_type": "execute_result"
    }
   ],
   "source": [
    "energy.date = pd.to_datetime(energy.date)\n",
    "energy.set_index(['date'], inplace=True)       #change the index\n",
    "energy.head()"
   ]
  },
  {
   "cell_type": "markdown",
   "metadata": {},
   "source": [
    "What we care about is the amount of energy generated daily, so let drop other information."
   ]
  },
  {
   "cell_type": "code",
   "execution_count": 61,
   "metadata": {},
   "outputs": [
    {
     "data": {
      "text/html": [
       "<div>\n",
       "<style scoped>\n",
       "    .dataframe tbody tr th:only-of-type {\n",
       "        vertical-align: middle;\n",
       "    }\n",
       "\n",
       "    .dataframe tbody tr th {\n",
       "        vertical-align: top;\n",
       "    }\n",
       "\n",
       "    .dataframe thead th {\n",
       "        text-align: right;\n",
       "    }\n",
       "</style>\n",
       "<table border=\"1\" class=\"dataframe\">\n",
       "  <thead>\n",
       "    <tr style=\"text-align: right;\">\n",
       "      <th></th>\n",
       "      <th>cum_power</th>\n",
       "    </tr>\n",
       "    <tr>\n",
       "      <th>date</th>\n",
       "      <th></th>\n",
       "    </tr>\n",
       "  </thead>\n",
       "  <tbody>\n",
       "    <tr>\n",
       "      <th>2011-10-26</th>\n",
       "      <td>0.1</td>\n",
       "    </tr>\n",
       "    <tr>\n",
       "      <th>2011-10-27</th>\n",
       "      <td>10.2</td>\n",
       "    </tr>\n",
       "    <tr>\n",
       "      <th>2011-10-28</th>\n",
       "      <td>20.2</td>\n",
       "    </tr>\n",
       "    <tr>\n",
       "      <th>2011-10-29</th>\n",
       "      <td>29.6</td>\n",
       "    </tr>\n",
       "    <tr>\n",
       "      <th>2011-10-30</th>\n",
       "      <td>34.2</td>\n",
       "    </tr>\n",
       "  </tbody>\n",
       "</table>\n",
       "</div>"
      ],
      "text/plain": [
       "            cum_power\n",
       "date                 \n",
       "2011-10-26        0.1\n",
       "2011-10-27       10.2\n",
       "2011-10-28       20.2\n",
       "2011-10-29       29.6\n",
       "2011-10-30       34.2"
      ]
     },
     "execution_count": 61,
     "metadata": {},
     "output_type": "execute_result"
    }
   ],
   "source": [
    "energy.drop(labels='kWh electricity/day', axis=1, inplace=True)\n",
    "energy.drop(labels='Gas/day', axis=1, inplace=True)\n",
    "energy.rename(columns = {'Cumulative_solar_power':'cum_power'}, inplace = True)\n",
    "energy.head()"
   ]
  },
  {
   "cell_type": "markdown",
   "metadata": {},
   "source": [
    "We known from the description of the dataset that data is recorded at the beginning of the day. Hence the number actually describes the cum_power in the previous day."
   ]
  },
  {
   "cell_type": "code",
   "execution_count": 62,
   "metadata": {},
   "outputs": [],
   "source": [
    "energy = energy.shift(periods=-1, freq='D', axis=0) "
   ]
  },
  {
   "cell_type": "code",
   "execution_count": 63,
   "metadata": {},
   "outputs": [
    {
     "data": {
      "text/html": [
       "<div>\n",
       "<style scoped>\n",
       "    .dataframe tbody tr th:only-of-type {\n",
       "        vertical-align: middle;\n",
       "    }\n",
       "\n",
       "    .dataframe tbody tr th {\n",
       "        vertical-align: top;\n",
       "    }\n",
       "\n",
       "    .dataframe thead th {\n",
       "        text-align: right;\n",
       "    }\n",
       "</style>\n",
       "<table border=\"1\" class=\"dataframe\">\n",
       "  <thead>\n",
       "    <tr style=\"text-align: right;\">\n",
       "      <th></th>\n",
       "      <th>cum_power</th>\n",
       "    </tr>\n",
       "    <tr>\n",
       "      <th>date</th>\n",
       "      <th></th>\n",
       "    </tr>\n",
       "  </thead>\n",
       "  <tbody>\n",
       "    <tr>\n",
       "      <th>2011-10-25</th>\n",
       "      <td>0.1</td>\n",
       "    </tr>\n",
       "    <tr>\n",
       "      <th>2011-10-26</th>\n",
       "      <td>10.2</td>\n",
       "    </tr>\n",
       "    <tr>\n",
       "      <th>2011-10-27</th>\n",
       "      <td>20.2</td>\n",
       "    </tr>\n",
       "    <tr>\n",
       "      <th>2011-10-28</th>\n",
       "      <td>29.6</td>\n",
       "    </tr>\n",
       "    <tr>\n",
       "      <th>2011-10-29</th>\n",
       "      <td>34.2</td>\n",
       "    </tr>\n",
       "  </tbody>\n",
       "</table>\n",
       "</div>"
      ],
      "text/plain": [
       "            cum_power\n",
       "date                 \n",
       "2011-10-25        0.1\n",
       "2011-10-26       10.2\n",
       "2011-10-27       20.2\n",
       "2011-10-28       29.6\n",
       "2011-10-29       34.2"
      ]
     },
     "execution_count": 63,
     "metadata": {},
     "output_type": "execute_result"
    }
   ],
   "source": [
    "energy.head()"
   ]
  },
  {
   "cell_type": "markdown",
   "metadata": {},
   "source": [
    "It is still not done yet. The number that we currently have is the cumulative number. What we really need is the daily number."
   ]
  },
  {
   "cell_type": "code",
   "execution_count": 64,
   "metadata": {},
   "outputs": [],
   "source": [
    "power_list = [0] * len(energy)\n",
    "power_list[0] = energy['cum_power'][0]\n",
    "\n",
    "for i in range(len(energy)-1):\n",
    "    power_list[i+1] = energy['cum_power'][i+1] - energy['cum_power'][i]\n",
    "\n",
    "energy.insert(1, \"daily_power\", power_list, True)\n",
    "energy.drop(labels='cum_power', axis=1, inplace=True)"
   ]
  },
  {
   "cell_type": "code",
   "execution_count": 65,
   "metadata": {},
   "outputs": [
    {
     "data": {
      "text/html": [
       "<div>\n",
       "<style scoped>\n",
       "    .dataframe tbody tr th:only-of-type {\n",
       "        vertical-align: middle;\n",
       "    }\n",
       "\n",
       "    .dataframe tbody tr th {\n",
       "        vertical-align: top;\n",
       "    }\n",
       "\n",
       "    .dataframe thead th {\n",
       "        text-align: right;\n",
       "    }\n",
       "</style>\n",
       "<table border=\"1\" class=\"dataframe\">\n",
       "  <thead>\n",
       "    <tr style=\"text-align: right;\">\n",
       "      <th></th>\n",
       "      <th>daily_power</th>\n",
       "    </tr>\n",
       "    <tr>\n",
       "      <th>date</th>\n",
       "      <th></th>\n",
       "    </tr>\n",
       "  </thead>\n",
       "  <tbody>\n",
       "    <tr>\n",
       "      <th>2011-10-25</th>\n",
       "      <td>0.1</td>\n",
       "    </tr>\n",
       "    <tr>\n",
       "      <th>2011-10-26</th>\n",
       "      <td>10.1</td>\n",
       "    </tr>\n",
       "    <tr>\n",
       "      <th>2011-10-27</th>\n",
       "      <td>10.0</td>\n",
       "    </tr>\n",
       "    <tr>\n",
       "      <th>2011-10-28</th>\n",
       "      <td>9.4</td>\n",
       "    </tr>\n",
       "    <tr>\n",
       "      <th>2011-10-29</th>\n",
       "      <td>4.6</td>\n",
       "    </tr>\n",
       "  </tbody>\n",
       "</table>\n",
       "</div>"
      ],
      "text/plain": [
       "            daily_power\n",
       "date                   \n",
       "2011-10-25          0.1\n",
       "2011-10-26         10.1\n",
       "2011-10-27         10.0\n",
       "2011-10-28          9.4\n",
       "2011-10-29          4.6"
      ]
     },
     "execution_count": 65,
     "metadata": {},
     "output_type": "execute_result"
    }
   ],
   "source": [
    "energy.head()"
   ]
  },
  {
   "cell_type": "code",
   "execution_count": 66,
   "metadata": {},
   "outputs": [
    {
     "data": {
      "text/plain": [
       "(2731, 3304)"
      ]
     },
     "execution_count": 66,
     "metadata": {},
     "output_type": "execute_result"
    }
   ],
   "source": [
    "len(average_weather), len(energy)"
   ]
  },
  {
   "cell_type": "code",
   "execution_count": 67,
   "metadata": {},
   "outputs": [
    {
     "data": {
      "image/png": "[encoded data removed]",
      "text/plain": [
       "<Figure size 1080x360 with 1 Axes>"
      ]
     },
     "metadata": {},
     "output_type": "display_data"
    }
   ],
   "source": [
    "sns.set()\n",
    "power_index= energy.reset_index()\n",
    "power_index.plot(kind='line', x='date', y='daily_power', figsize=(15,5))\n",
    "\n",
    "plt.title('Daily Power Produced By Solar Panels')\n",
    "plt.ylabel('Daily Power')\n",
    "plt.show()"
   ]
  },
  {
   "cell_type": "code",
   "execution_count": 68,
   "metadata": {},
   "outputs": [
    {
     "data": {
      "text/html": [
       "<div>\n",
       "<style scoped>\n",
       "    .dataframe tbody tr th:only-of-type {\n",
       "        vertical-align: middle;\n",
       "    }\n",
       "\n",
       "    .dataframe tbody tr th {\n",
       "        vertical-align: top;\n",
       "    }\n",
       "\n",
       "    .dataframe thead th {\n",
       "        text-align: right;\n",
       "    }\n",
       "</style>\n",
       "<table border=\"1\" class=\"dataframe\">\n",
       "  <thead>\n",
       "    <tr style=\"text-align: right;\">\n",
       "      <th></th>\n",
       "      <th>temp</th>\n",
       "      <th>cloud</th>\n",
       "      <th>rain</th>\n",
       "      <th>wind</th>\n",
       "      <th>humidity</th>\n",
       "      <th>barometer</th>\n",
       "      <th>daily_power</th>\n",
       "    </tr>\n",
       "    <tr>\n",
       "      <th>date</th>\n",
       "      <th></th>\n",
       "      <th></th>\n",
       "      <th></th>\n",
       "      <th></th>\n",
       "      <th></th>\n",
       "      <th></th>\n",
       "      <th></th>\n",
       "    </tr>\n",
       "  </thead>\n",
       "  <tbody>\n",
       "    <tr>\n",
       "      <th>2012-01-01</th>\n",
       "      <td>12.333333</td>\n",
       "      <td>Overcast</td>\n",
       "      <td>No rain</td>\n",
       "      <td>21.333333</td>\n",
       "      <td>89.333333</td>\n",
       "      <td>1007.866667</td>\n",
       "      <td>5.6</td>\n",
       "    </tr>\n",
       "    <tr>\n",
       "      <th>2012-01-02</th>\n",
       "      <td>7.787234</td>\n",
       "      <td>Scattered clouds</td>\n",
       "      <td>No rain</td>\n",
       "      <td>17.212766</td>\n",
       "      <td>81.425532</td>\n",
       "      <td>1009.170213</td>\n",
       "      <td>2.5</td>\n",
       "    </tr>\n",
       "    <tr>\n",
       "      <th>2012-01-03</th>\n",
       "      <td>8.208333</td>\n",
       "      <td>Fog</td>\n",
       "      <td>Light rain</td>\n",
       "      <td>32.354167</td>\n",
       "      <td>78.229167</td>\n",
       "      <td>1007.916667</td>\n",
       "      <td>7.6</td>\n",
       "    </tr>\n",
       "    <tr>\n",
       "      <th>2012-01-04</th>\n",
       "      <td>7.354167</td>\n",
       "      <td>Broken clouds</td>\n",
       "      <td>No rain</td>\n",
       "      <td>26.375000</td>\n",
       "      <td>71.041667</td>\n",
       "      <td>1012.687500</td>\n",
       "      <td>15.1</td>\n",
       "    </tr>\n",
       "    <tr>\n",
       "      <th>2012-01-05</th>\n",
       "      <td>8.292683</td>\n",
       "      <td>Broken clouds</td>\n",
       "      <td>Rain showers</td>\n",
       "      <td>39.170732</td>\n",
       "      <td>77.804878</td>\n",
       "      <td>998.219512</td>\n",
       "      <td>13.1</td>\n",
       "    </tr>\n",
       "  </tbody>\n",
       "</table>\n",
       "</div>"
      ],
      "text/plain": [
       "                 temp             cloud          rain       wind   humidity  \\\n",
       "date                                                                          \n",
       "2012-01-01  12.333333          Overcast       No rain  21.333333  89.333333   \n",
       "2012-01-02   7.787234  Scattered clouds       No rain  17.212766  81.425532   \n",
       "2012-01-03   8.208333               Fog    Light rain  32.354167  78.229167   \n",
       "2012-01-04   7.354167     Broken clouds       No rain  26.375000  71.041667   \n",
       "2012-01-05   8.292683     Broken clouds  Rain showers  39.170732  77.804878   \n",
       "\n",
       "              barometer  daily_power  \n",
       "date                                  \n",
       "2012-01-01  1007.866667          5.6  \n",
       "2012-01-02  1009.170213          2.5  \n",
       "2012-01-03  1007.916667          7.6  \n",
       "2012-01-04  1012.687500         15.1  \n",
       "2012-01-05   998.219512         13.1  "
      ]
     },
     "execution_count": 68,
     "metadata": {},
     "output_type": "execute_result"
    }
   ],
   "source": [
    "def merge_weatherANDpower():\n",
    "    dataset = average_weather.merge(energy, on=['date'])\n",
    "    return dataset.set_index('date')\n",
    "\n",
    "final_dataset = merge_weatherANDpower()\n",
    "final_dataset.head()"
   ]
  },
  {
   "cell_type": "code",
   "execution_count": 69,
   "metadata": {},
   "outputs": [
    {
     "name": "stdout",
     "output_type": "stream",
     "text": [
      "<class 'pandas.core.frame.DataFrame'>\n",
      "DatetimeIndex: 2731 entries, 2012-01-01 to 2019-12-29\n",
      "Data columns (total 7 columns):\n",
      " #   Column       Non-Null Count  Dtype  \n",
      "---  ------       --------------  -----  \n",
      " 0   temp         2731 non-null   float64\n",
      " 1   cloud        2731 non-null   object \n",
      " 2   rain         2731 non-null   object \n",
      " 3   wind         2731 non-null   float64\n",
      " 4   humidity     2731 non-null   float64\n",
      " 5   barometer    2731 non-null   float64\n",
      " 6   daily_power  2731 non-null   float64\n",
      "dtypes: float64(5), object(2)\n",
      "memory usage: 170.7+ KB\n"
     ]
    }
   ],
   "source": [
    "final_dataset.info()"
   ]
  },
  {
   "cell_type": "markdown",
   "metadata": {},
   "source": [
    "In future stages, the OpenWeather API will be used to collect the weather forecast. Hence the cloud status and rain status need to be synced with the outcome of the API."
   ]
  },
  {
   "cell_type": "code",
   "execution_count": 70,
   "metadata": {},
   "outputs": [],
   "source": [
    "def reduce_cloud_categories(weather):\n",
    "    weather.cloud = weather.cloud.map({\n",
    "        'Ice fog':'overcast clouds',\n",
    "        'Haze':'overcast clouds',\n",
    "        'Fog':'overcast clouds',\n",
    "        'Clear':'clear sky',\n",
    "        'Sunny':'clear sky',\n",
    "        'Broken clouds':'broken clouds',\n",
    "        'Scattered clouds':'scattered clouds',\n",
    "        'Overcast':'overcast clouds',\n",
    "        'More clouds than sun':'broken clouds',\n",
    "        'More sun than clouds':'scattered clouds',\n",
    "        'Low clouds':'few clouds',\n",
    "        'Mostly cloudy':'overcast clouds',\n",
    "        'Cloudy':'overcast clouds',\n",
    "        'Passing clouds':'broken clouds',\n",
    "        'Partly sunny':'few clouds',\n",
    "        'Mostly sunny':'clear sky'\n",
    "    },na_action='ignore')\n",
    "    return weather"
   ]
  },
  {
   "cell_type": "code",
   "execution_count": 71,
   "metadata": {},
   "outputs": [],
   "source": [
    "def reduce_rain_categories(weather):\n",
    "    weather.rain = weather.rain.map({\n",
    "        'Thundershowers':'thunderstorms',\n",
    "        'Thunderstorms':'thunderstorms',\n",
    "        'Drizzle':'drizzle',\n",
    "        'Light rain':'rain',\n",
    "        'Rain':'rain',\n",
    "        'Sprinkles':'rain',\n",
    "        'Scattered showers':'rain',\n",
    "        'Light freezing rain':'rain',\n",
    "        'Rain showers':'rain',\n",
    "        'Snow':'snow',\n",
    "        'Snow flurries':'snow',\n",
    "        'Light snow':'snow',\n",
    "        'No rain':'no rain'\n",
    "    },na_action='ignore')\n",
    "    return weather"
   ]
  },
  {
   "cell_type": "code",
   "execution_count": 72,
   "metadata": {},
   "outputs": [],
   "source": [
    "simplified_data = reduce_rain_categories(final_dataset)"
   ]
  },
  {
   "cell_type": "code",
   "execution_count": 73,
   "metadata": {},
   "outputs": [
    {
     "name": "stderr",
     "output_type": "stream",
     "text": [
      "/home/nhat/.local/lib/python3.6/site-packages/seaborn/_decorators.py:43: FutureWarning: Pass the following variables as keyword args: x, y. From version 0.12, the only valid positional argument will be `data`, and passing other arguments without an explicit keyword will result in an error or misinterpretation.\n",
      "  FutureWarning\n"
     ]
    },
    {
     "data": {
      "image/png": "[encoded data removed]",
      "text/plain": [
       "<Figure size 1152x360 with 1 Axes>"
      ]
     },
     "metadata": {},
     "output_type": "display_data"
    }
   ],
   "source": [
    "import seaborn as sns\n",
    "weather_counts = simplified_data['rain'].value_counts()\n",
    "plt.figure(figsize=(16,5))\n",
    "sns.barplot(weather_counts.index, weather_counts.values, alpha=0.8)\n",
    "plt.xticks(rotation=90)\n",
    "plt.title('Rain Status')\n",
    "plt.xlabel('Status')\n",
    "plt.ylabel('Number Of Repetition')\n",
    "plt.show()"
   ]
  },
  {
   "cell_type": "code",
   "execution_count": 74,
   "metadata": {},
   "outputs": [],
   "source": [
    "simplified_data = reduce_cloud_categories(simplified_data)"
   ]
  },
  {
   "cell_type": "code",
   "execution_count": 75,
   "metadata": {},
   "outputs": [
    {
     "name": "stderr",
     "output_type": "stream",
     "text": [
      "/home/nhat/.local/lib/python3.6/site-packages/seaborn/_decorators.py:43: FutureWarning: Pass the following variables as keyword args: x, y. From version 0.12, the only valid positional argument will be `data`, and passing other arguments without an explicit keyword will result in an error or misinterpretation.\n",
      "  FutureWarning\n"
     ]
    },
    {
     "data": {
      "image/png": "[encoded data removed]",
      "text/plain": [
       "<Figure size 1152x360 with 1 Axes>"
      ]
     },
     "metadata": {},
     "output_type": "display_data"
    }
   ],
   "source": [
    "import seaborn as sns\n",
    "weather_counts = simplified_data['cloud'].value_counts()\n",
    "plt.figure(figsize=(16,5))\n",
    "sns.barplot(weather_counts.index, weather_counts.values, alpha=0.8)\n",
    "plt.xticks(rotation=90)\n",
    "plt.title('Cloud Status')\n",
    "plt.xlabel('Status')\n",
    "plt.ylabel('Number Of Repetition')\n",
    "plt.show()"
   ]
  },
  {
   "cell_type": "code",
   "execution_count": 76,
   "metadata": {},
   "outputs": [
    {
     "name": "stdout",
     "output_type": "stream",
     "text": [
      "<class 'pandas.core.frame.DataFrame'>\n",
      "DatetimeIndex: 2731 entries, 2012-01-01 to 2019-12-29\n",
      "Data columns (total 7 columns):\n",
      " #   Column       Non-Null Count  Dtype  \n",
      "---  ------       --------------  -----  \n",
      " 0   temp         2731 non-null   float64\n",
      " 1   cloud        2731 non-null   object \n",
      " 2   rain         2731 non-null   object \n",
      " 3   wind         2731 non-null   float64\n",
      " 4   humidity     2731 non-null   float64\n",
      " 5   barometer    2731 non-null   float64\n",
      " 6   daily_power  2731 non-null   float64\n",
      "dtypes: float64(5), object(2)\n",
      "memory usage: 170.7+ KB\n"
     ]
    }
   ],
   "source": [
    "simplified_data.info()"
   ]
  },
  {
   "cell_type": "code",
   "execution_count": 77,
   "metadata": {},
   "outputs": [
    {
     "data": {
      "text/html": [
       "<div>\n",
       "<style scoped>\n",
       "    .dataframe tbody tr th:only-of-type {\n",
       "        vertical-align: middle;\n",
       "    }\n",
       "\n",
       "    .dataframe tbody tr th {\n",
       "        vertical-align: top;\n",
       "    }\n",
       "\n",
       "    .dataframe thead th {\n",
       "        text-align: right;\n",
       "    }\n",
       "</style>\n",
       "<table border=\"1\" class=\"dataframe\">\n",
       "  <thead>\n",
       "    <tr style=\"text-align: right;\">\n",
       "      <th></th>\n",
       "      <th>temp</th>\n",
       "      <th>cloud</th>\n",
       "      <th>rain</th>\n",
       "      <th>wind</th>\n",
       "      <th>humidity</th>\n",
       "      <th>barometer</th>\n",
       "      <th>daily_power</th>\n",
       "    </tr>\n",
       "    <tr>\n",
       "      <th>date</th>\n",
       "      <th></th>\n",
       "      <th></th>\n",
       "      <th></th>\n",
       "      <th></th>\n",
       "      <th></th>\n",
       "      <th></th>\n",
       "      <th></th>\n",
       "    </tr>\n",
       "  </thead>\n",
       "  <tbody>\n",
       "    <tr>\n",
       "      <th>2012-01-01</th>\n",
       "      <td>12.333333</td>\n",
       "      <td>overcast clouds</td>\n",
       "      <td>no rain</td>\n",
       "      <td>21.333333</td>\n",
       "      <td>89.333333</td>\n",
       "      <td>1007.866667</td>\n",
       "      <td>5.6</td>\n",
       "    </tr>\n",
       "    <tr>\n",
       "      <th>2012-01-02</th>\n",
       "      <td>7.787234</td>\n",
       "      <td>scattered clouds</td>\n",
       "      <td>no rain</td>\n",
       "      <td>17.212766</td>\n",
       "      <td>81.425532</td>\n",
       "      <td>1009.170213</td>\n",
       "      <td>2.5</td>\n",
       "    </tr>\n",
       "    <tr>\n",
       "      <th>2012-01-03</th>\n",
       "      <td>8.208333</td>\n",
       "      <td>overcast clouds</td>\n",
       "      <td>rain</td>\n",
       "      <td>32.354167</td>\n",
       "      <td>78.229167</td>\n",
       "      <td>1007.916667</td>\n",
       "      <td>7.6</td>\n",
       "    </tr>\n",
       "    <tr>\n",
       "      <th>2012-01-04</th>\n",
       "      <td>7.354167</td>\n",
       "      <td>broken clouds</td>\n",
       "      <td>no rain</td>\n",
       "      <td>26.375000</td>\n",
       "      <td>71.041667</td>\n",
       "      <td>1012.687500</td>\n",
       "      <td>15.1</td>\n",
       "    </tr>\n",
       "    <tr>\n",
       "      <th>2012-01-05</th>\n",
       "      <td>8.292683</td>\n",
       "      <td>broken clouds</td>\n",
       "      <td>rain</td>\n",
       "      <td>39.170732</td>\n",
       "      <td>77.804878</td>\n",
       "      <td>998.219512</td>\n",
       "      <td>13.1</td>\n",
       "    </tr>\n",
       "  </tbody>\n",
       "</table>\n",
       "</div>"
      ],
      "text/plain": [
       "                 temp             cloud     rain       wind   humidity  \\\n",
       "date                                                                     \n",
       "2012-01-01  12.333333   overcast clouds  no rain  21.333333  89.333333   \n",
       "2012-01-02   7.787234  scattered clouds  no rain  17.212766  81.425532   \n",
       "2012-01-03   8.208333   overcast clouds     rain  32.354167  78.229167   \n",
       "2012-01-04   7.354167     broken clouds  no rain  26.375000  71.041667   \n",
       "2012-01-05   8.292683     broken clouds     rain  39.170732  77.804878   \n",
       "\n",
       "              barometer  daily_power  \n",
       "date                                  \n",
       "2012-01-01  1007.866667          5.6  \n",
       "2012-01-02  1009.170213          2.5  \n",
       "2012-01-03  1007.916667          7.6  \n",
       "2012-01-04  1012.687500         15.1  \n",
       "2012-01-05   998.219512         13.1  "
      ]
     },
     "execution_count": 77,
     "metadata": {},
     "output_type": "execute_result"
    }
   ],
   "source": [
    "simplified_data.head()"
   ]
  },
  {
   "cell_type": "code",
   "execution_count": 78,
   "metadata": {},
   "outputs": [
    {
     "data": {
      "text/plain": [
       "temp           0\n",
       "cloud          0\n",
       "rain           0\n",
       "wind           0\n",
       "humidity       0\n",
       "barometer      0\n",
       "daily_power    0\n",
       "dtype: int64"
      ]
     },
     "execution_count": 78,
     "metadata": {},
     "output_type": "execute_result"
    }
   ],
   "source": [
    "simplified_data.isna().sum()"
   ]
  },
  {
   "cell_type": "code",
   "execution_count": 79,
   "metadata": {},
   "outputs": [],
   "source": [
    "simplified_data.to_csv('training_data.csv')"
   ]
  },
  {
   "cell_type": "code",
   "execution_count": null,
   "metadata": {},
   "outputs": [],
   "source": []
  }
 ],
 "metadata": {
  "kernelspec": {
   "display_name": "Python 3",
   "language": "python",
   "name": "python3"
  },
  "language_info": {
   "codemirror_mode": {
    "name": "ipython",
    "version": 3
   },
   "file_extension": ".py",
   "mimetype": "text/x-python",
   "name": "python",
   "nbconvert_exporter": "python",
   "pygments_lexer": "ipython3",
   "version": "3.6.9"
  }
 },
 "nbformat": 4,
 "nbformat_minor": 4
}
